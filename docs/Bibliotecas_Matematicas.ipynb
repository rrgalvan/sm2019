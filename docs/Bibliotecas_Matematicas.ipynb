{
 "cells": [
  {
   "cell_type": "markdown",
   "metadata": {},
   "source": [
    "# Tema 3.  Bibliotecas matemáticas y científicas en Python"
   ]
  },
  {
   "cell_type": "markdown",
   "metadata": {},
   "source": [
    "##### 1. Cálculo numérico: *numpy* + *scipy* + *matplotlib*\n",
    "\n",
    "* [Numpy: vectores y matrices](https://nbviewer.jupyter.org/github/rrgalvan/numerical_python_course/blob/master/10-Numpy.ipynb)\n",
    "* [Matplotlib: gráficos 2D y 3D](https://nbviewer.jupyter.org/github/rrgalvan/clases-python-cientifico/blob/master/Lecture-4-Matplotlib.ipynb)\n",
    "* [Scipy: bilioteca científica](https://nbviewer.jupyter.org/github/rrgalvan/numerical_python_course/blob/master/12-Scipy.ipynb)\n",
    " \n",
    "##### 2. Cálculo símbólico\n",
    "* [*Sympy* (y *Sage*)](https://nbviewer.jupyter.org/github/rrgalvan/clases-python-cientifico/blob/master/Lecture-5-Sympy.ipynb)"
   ]
  },
  {
   "cell_type": "code",
   "execution_count": null,
   "metadata": {},
   "outputs": [],
   "source": []
  }
 ],
 "metadata": {
  "kernelspec": {
   "display_name": "Python 3",
   "language": "python",
   "name": "python3"
  },
  "language_info": {
   "codemirror_mode": {
    "name": "ipython",
    "version": 3
   },
   "file_extension": ".py",
   "mimetype": "text/x-python",
   "name": "python",
   "nbconvert_exporter": "python",
   "pygments_lexer": "ipython3",
   "version": "3.8.10"
  }
 },
 "nbformat": 4,
 "nbformat_minor": 4
}
