{
 "cells": [
  {
   "cell_type": "markdown",
   "metadata": {
    "slideshow": {
     "slide_type": "slide"
    }
   },
   "source": [
    "# Control de versiones con Git\n",
    "\n",
    "- Git (https://git-scm.com/) es un sistema de control de versiones. Su propósito es \n",
    "    - llevar registro de los cambios en archivos de computadora y \n",
    "    - coordinar el trabajo que varias personas realizan sobre archivos compartidos\n",
    "- Diseñado para gestionar ficheros de texto (código informático, ficheros $\\LaTeX$...)\n",
    "- Control de versiones distribuido:\n",
    "    - Copias en carpetas del ordenador local (repositorios locales)\n",
    "    - Copias en sitios de internet (repositorios remotos): [Github](https://github.com), [GitLab](https://gitlab.com), [Bitbucket](https://bitbucket.org)...\n",
    "- Bibliografía oficial: https://git-scm.com/book/es/v2"
   ]
  },
  {
   "cell_type": "markdown",
   "metadata": {
    "slideshow": {
     "slide_type": "slide"
    }
   },
   "source": [
    "## Primeros pasos\n",
    "Seguiremos la documentación oficial. Los siguientes enlaces apuntan directamente a las secciones pertinentes.\n",
    "- [Instalación](https://git-scm.com/book/es/v2/Inicio---Sobre-el-Control-de-Versiones-Instalaci%C3%B3n-de-Git).\n",
    "Aunque se pueden instalar interfaces gráficas adicionales, es usual usar simplemente git en modo consola\n",
    "- [Configuración inicial](https://git-scm.com/book/es/v2/Inicio---Sobre-el-Control-de-Versiones-Configurando-Git-por-primera-vez).\n",
    "El primer paso tras instalar Git es establecer un nombre de usuario y dirección de correo electrónico. Esto es importante porque los \"commits\" de Git usan esta información. Las órdenes necesarias en la consola Git son:\n",
    "\n",
    "```sh\n",
    "$ git config --global user.name \"Nombre de Usuario\"\n",
    "\n",
    "$ git config --global user.email usuario@example.com\n",
    "```"
   ]
  },
  {
   "cell_type": "markdown",
   "metadata": {
    "slideshow": {
     "slide_type": "slide"
    }
   },
   "source": [
    "## Primeras órdenes con Git\n",
    "\n",
    "- Órdenes básicas para trabajar en un **repositorio local**\n",
    "    - Inicializar un repositorio local: `git init`\n",
    "    - Añadir los contenidos de un fichero al control de versiones: `git add`\n",
    "    - Confirmar o comunicar los cambios: `git commit`\n",
    "    - [Más detalles en la documentación oficial](https://git-scm.com/book/es/v2/Fundamentos-de-Git-Obteniendo-un-repositorio-Git).\n",
    "- **Obtener información** sobre el repositorio local\n",
    "    - Determinar el estado actual de los ficheros: `git status`\n",
    "        - [documentación](https://git-scm.com/book/es/v2/Fundamentos-de-Git-Guardando-cambios-en-el-Repositorio).\n",
    "    - Ver el historial de confirmaciones (*commits*): `git log`\n",
    "        - [documentación](https://git-scm.com/book/es/v2/Fundamentos-de-Git-Ver-el-Historial-de-Confirmaciones).\n",
    "        \n",
    "        "
   ]
  },
  {
   "cell_type": "markdown",
   "metadata": {
    "slideshow": {
     "slide_type": "slide"
    }
   },
   "source": [
    "## Trabajar con un repositorio remoto\n",
    "- Clonar o copiar un repositorio remoto ya existente para empezar a trabajar de forma local: `git clone`\n",
    "     - [documentación](https://git-scm.com/book/es/v2/Fundamentos-de-Git-Obteniendo-un-repositorio-Git).\n",
    "- Enviar a un repositorio remoto los últimos cambios locales confirmados: `git push`\n",
    "    - [documentación](https://git-scm.com/book/es/v2/Fundamentos-de-Git-Trabajar-con-Remotos).\n",
    "- Descargar y combinar los cambios de un repositorio remoto: `git pull` \n",
    "     - [documentación](https://git-scm.com/book/es/v2/Fundamentos-de-Git-Trabajar-con-Remotos).\n"
   ]
  },
  {
   "cell_type": "code",
   "execution_count": null,
   "metadata": {
    "slideshow": {
     "slide_type": "slide"
    }
   },
   "outputs": [],
   "source": []
  }
 ],
 "metadata": {
  "kernelspec": {
   "display_name": "Python 3",
   "language": "python",
   "name": "python3"
  },
  "language_info": {
   "codemirror_mode": {
    "name": "ipython",
    "version": 3
   },
   "file_extension": ".py",
   "mimetype": "text/x-python",
   "name": "python",
   "nbconvert_exporter": "python",
   "pygments_lexer": "ipython3",
   "version": "3.8.5"
  }
 },
 "nbformat": 4,
 "nbformat_minor": 4
}
