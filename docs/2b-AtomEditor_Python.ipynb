{
 "cells": [
  {
   "cell_type": "markdown",
   "metadata": {},
   "source": [
    "# El Editor Atom\n",
    "\n",
    "El entorno Jupyter, de orientado a la creación de cuadernos interactivos (que inclyen código, texto, gráficas etc) tiene muchas ventajas. \n",
    "\n",
    "Pero su gran flexibilidad es a veces un inconveniente. En muchas ocasiones, es conveniente utilizar (como sustituto o como complemento a Jupyter) código python \"puro\"\n",
    "\n",
    "Para ello, será fundamental utilizar un editor que se integre perfectmente con Python. Así podremos contar con ventajas como\n",
    "- Integración con el intérprete de Python\n",
    "- Autocomletado de código y atajos de teclado\n",
    "- Autodetección de errores de programación\n",
    "- ...\n",
    "\n",
    "Aquí nos centraremos en cómo configurar el [editor Atom](https://atom.io/) para su uso con Python. Sus características principales:\n",
    "\n",
    "- Atom es un editor muy completo y con licencia [libre de (tipo MIT)](https://flight-manual.atom.io/faq/sections/is-atom-open-source/). \n",
    "- Atom es compatible con todos los lenguajes usuales, incluyendo a Python. \n",
    "- Es muy flexible y pueden añadirse funcionalidades extra (Paquetes) de forma fácil\n",
    "\n",
    "Su instalación es muy sencilla, desde su página web https://atom.io/. Veremos cómo configurarlo para usarlo con Python de forma ágil\n",
    "\n",
    "## Configuración de Atom para Python\n",
    "\n",
    "Aunque una vez instlado Atom ya podemos utilizarlo para editar código Python, es fácil realizar una configuración adicional que nos permitirá una programacón mucho más ágil. \n",
    "\n",
    "Para ello, instalaremos algunos paquetes específicos, utilizando el menú `Preferences` (al que se accede a través de `Edit` o `Atom`, según el sistema operativo que utilicemos). \n",
    "\n",
    "- Se nos abrirá una pestaña a la derecha llamada `Editor Settings`, en la que podemos personalizar algunas opciones. Porejemplo, puede ser interesante activar `Scroll Past End` (desplazarse más allá de la última línea de código) y `Show Indent Guide` (mostrar líneas verticales que nos indican las tabulaciones presentes)\n",
    "- Tendremos a la izquierda el menú `Install`, que nos permite buscar paquetes para, automáticamente, descargarlos de internet e instalarlos. Algunos paquetes recomendables:\n",
    "    - `atom-python-run`: ejecutar en una consola ficheros python abiertos en Atom (pulsando las teclas `F5`o `F6`, por defecto). \n",
    "        - **Configuración**: Después de instalarlo, el paquete debe configurarse para que utilize **python3**. Para ello pulsar en `Settings` y, en las entradas `F5 command` y `F6 command`, sustituir *python* por *python3*.\n",
    "    - `autocomplete-python`: mientras tecleamos, una ventana nos muestra distintas sugerencias para autocompletar el código (tecla `Tabulador`)\n",
    "    - `linter-flake8`: identifica en vivo los errores que tiene nuestro código.\n",
    "        - *Nota*: al instalar el paquete es posible que aparezca una ventana emergente pidiéndonos que instalemos ciertas dependencias, que debemos aceptar\n",
    "    - `python-autopep8`: formatea el código Python acorde con la guía de estilo oficial de Python ([PEP 8](https://www.python.org/dev/peps/pep-0008/)).\n"
   ]
  },
  {
   "cell_type": "code",
   "execution_count": null,
   "metadata": {},
   "outputs": [],
   "source": []
  }
 ],
 "metadata": {
  "kernelspec": {
   "display_name": "Python 3",
   "language": "python",
   "name": "python3"
  },
  "language_info": {
   "codemirror_mode": {
    "name": "ipython",
    "version": 3
   },
   "file_extension": ".py",
   "mimetype": "text/x-python",
   "name": "python",
   "nbconvert_exporter": "python",
   "pygments_lexer": "ipython3",
   "version": "3.8.5"
  }
 },
 "nbformat": 4,
 "nbformat_minor": 4
}
