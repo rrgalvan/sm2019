{
 "cells": [
  {
   "cell_type": "markdown",
   "metadata": {
    "slideshow": {
     "slide_type": "slide"
    }
   },
   "source": [
    "# Software en Matemáticas\n",
    "\n",
    "## Módulo Python\n",
    "\n",
    "*Máster Universitario en Matemáticas, Universidad de Cádiz*. [Guía docente](https://masteres.ugr.es/doctomat/pages/info_academica/guias_docentes/actual/sm/%21)"
   ]
  },
  {
   "cell_type": "markdown",
   "metadata": {
    "slideshow": {
     "slide_type": "slide"
    }
   },
   "source": [
    "# Módulo 1: Python\n",
    "\n",
    "* [Tema 1](https://rrgalvan.github.io/softmat/2-Python_Language.slides.html): *El lenguaje Python*\n",
    "    * Instalación de entornos de *Python científico*\n",
    "    * El lenguaje Python: sintaxis, variables, operadores, estructuras de datos, control de flujo, funciones.\n",
    "* [Tema 2](https://rrgalvan.github.io/softmat/html/Shell_Unix.slides.html): *Introducción a la shell UNIX*\n",
    "    * Apéndice: [Control de versiones con Git](https://rrgalvan.github.io/softmat/html/Git.slides.html)\n",
    "* [Tema 3](https://rrgalvan.github.io/softmat/html/Bibliotecas_Matematicas.slides.html): *Bibliotecas matemáticas y científicas en Python*\n",
    "    * Cálculo numérico: *numpy* + *scipy* + *matplotlib*\n",
    "    * Cálculo símbólico: *sympy*\n",
    "    * Análisis de datos: *pandas*\n",
    "        - [Análisis y visualización de datos usando Python](https://datacarpentry.org/python-ecology-lesson-es)\n",
    "* Tema 4: *Conceptos avanzados*\n",
    "    * [Programación orientada a objetos](https://nbviewer.jupyter.org/github/rrgalvan/softmat/html/ejercicios/Orientacion-a-Objetos.html)\n",
    "    * Más allá de Python: El [lenguaje Julia](https://julialang.org/)\n",
    "* Tema 5: *Ejercicios, recapitulación y proyectos finales*\n",
    "    - Ejercicio 0. Sistema de control de versiones Git\n",
    "    - Ejercicio 1. Análisis de datos de coronavirus con *Pandas*\n",
    "    - Ejercicio 2. Velocidad de cálculo en Python. El *paquete [Numba](https://numba.pydata.org/)*\n",
    "        - Autómatas celulares: Implementación del [juego de la vida de Conway](http://eenube.com/index.php/ldp/algoritmos/141-el-juego-de-la-vida-de-john-conway-en-python)  en Python. Aceleración con Numba \n",
    "        - El método de las diferencias finitas: vectorización del código y aceleración con Numba\n",
    "    - Ejercicio 3. El juego de la vida en lenguaje Julia"
   ]
  },
  {
   "cell_type": "markdown",
   "metadata": {
    "slideshow": {
     "slide_type": "slide"
    }
   },
   "source": [
    "# Bibliografía específica\n",
    "\n",
    "* [*Bibliografía general*](https://masteres.ugr.es/doctomat/pages/info_academica/guias_docentes/actual/sm/%21), contenida en la guía docente\n",
    "\n",
    "* [*Linux Shell Scripting Cookbook*](https://gutl.jovenclub.cu/wp-content/uploads/2013/10/Linux.Shell_.Scripting.Cookbook.pdf).\n",
    "    Libro muy avanzado y con muchos ejemplos reales. Los primeros capítulos son una buena introducción a la shell Unix.\n",
    "    \n",
    "* [*A Wirlwind introduction to Python*](https://jakevdp.github.io/WhirlwindTourOfPython/). Libro de texto introductorio, ha sido parcialmente **adaptado para esta asignatura**, resaltando conceptos de interés para ésta e incluyendo anotaciones y aclaraciones. \n",
    "    Desde aquí se puede [acceder a esta nueva versión adaptada](https://nbviewer.jupyter.org/github/rrgalvan/IntroPythonMasterMatemat/blob/master/Index.ipynb) (en formato *IPython Notebook*). Por supuesto, se puede acceder a [los libros de notas originales](https://github.com/jakevdp/WhirlwindTourOfPython).\n",
    "\n",
    "* [*Effective Computation in Physics (guide to research with Python)*](http://lilith.fisica.ufmg.br/~dickman/transfers/comp/textos/Effective%20Computation%20in%20Physics%20(Python).pdf). El libro se centra en el objetivo de proporcionar a los científicos el conocimiento práctico de herramientas informáticas para el día a día en tareas de investigación. Con más de 500 páginas, incluye los contenidos de este móculo (incluyendo la shell Unix y conceptos avanzados en Python)."
   ]
  },
  {
   "cell_type": "markdown",
   "metadata": {
    "slideshow": {
     "slide_type": "slide"
    }
   },
   "source": [
    "# Evaluación \n",
    "\n",
    "Según la [guía docente](https://masteres.ugr.es/doctomat/pages/info_academica/guias_docentes/actual/sm/%21):\n",
    "\n",
    "- Pruebas y/o análisis de las **tareas** y **trabajos**: un **80%**\n",
    "    - En el módulo de Python, se propondrá una tarea por cada tema y un trabajo final\n",
    "- **Otras actividades** y **participación** (en la participación se incluye la asistencia): **20%**\n",
    "    - Se tendrá en cuenta la asistencia en clase y la participación en actividades propuestas"
   ]
  },
  {
   "cell_type": "markdown",
   "metadata": {
    "slideshow": {
     "slide_type": "notes"
    }
   },
   "source": [
    "# Nota\n",
    "\n",
    "- Este cuaderno (*notebook*) ha sido diseñado como una serie de transparencias (*slides*) para el curso Software en Matemáticas\n",
    "- Se puede visualizar utilizando la orden\n",
    "> jupyter nbconvert *.ipynb --to slides --post serve\n",
    "- También (incluso en un **servidor remoto**) el menú: **File**-> **Download As**->**Slides**  (abriendo directamente el html con un navegador web)."
   ]
  }
 ],
 "metadata": {
  "celltoolbar": "Slideshow",
  "kernelspec": {
   "display_name": "Python 3 (ipykernel)",
   "language": "python",
   "name": "python3"
  },
  "language_info": {
   "codemirror_mode": {
    "name": "ipython",
    "version": 3
   },
   "file_extension": ".py",
   "mimetype": "text/x-python",
   "name": "python",
   "nbconvert_exporter": "python",
   "pygments_lexer": "ipython3",
   "version": "3.10.12"
  }
 },
 "nbformat": 4,
 "nbformat_minor": 4
}
