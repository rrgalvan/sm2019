{
 "cells": [
  {
   "cell_type": "markdown",
   "metadata": {
    "slideshow": {
     "slide_type": "slide"
    }
   },
   "source": [
    "# Control de versiones con Git\n",
    "\n",
    "- Git (https://git-scm.com/) es un sistema de control de versiones. Su propósito es \n",
    "    - llevar registro de los cambios en archivos de computadora y \n",
    "    - coordinar el trabajo que varias personas realizan sobre archivos compartidos\n",
    "- Diseñado para gestionar ficheros de texto (código informático, ficheros $\\LaTeX$...)\n",
    "- Control de versiones distribuido:\n",
    "    - Copias en carpetas del ordenador local (repositorios locales)\n",
    "    - Copias en sitios de internet (repositorios remotos): [Github](https://github.com), [GitLab](https://gitlab.com), [Bitbucket](https://bitbucket.org)...\n",
    "- Bibliografía oficial: https://git-scm.com/book/es/v2"
   ]
  },
  {
   "cell_type": "markdown",
   "metadata": {
    "slideshow": {
     "slide_type": "slide"
    }
   },
   "source": [
    "## Primeros pasos\n",
    "\n",
    "- [Instalación](https://git-scm.com/book/es/v2/Inicio---Sobre-el-Control-de-Versiones-Instalaci%C3%B3n-de-Git)\n",
    "- [Configuración inicial](https://git-scm.com/book/es/v2/Inicio---Sobre-el-Control-de-Versiones-Configurando-Git-por-primera-vez)\n",
    "- [Primeras órdenes con Git](https://git-scm.com/book/es/v2/Fundamentos-de-Git-Obteniendo-un-repositorio-Git):\n",
    "    - Inicializr un repositorio local (`git init`)\n",
    "    - Añadir ficheros al control de versiones (`git add`)\n",
    "    - Remitir (o consignar o comunicar) los cambios (`git commit`)"
   ]
  },
  {
   "cell_type": "code",
   "execution_count": null,
   "metadata": {},
   "outputs": [],
   "source": []
  }
 ],
 "metadata": {
  "kernelspec": {
   "display_name": "Python 3",
   "language": "python",
   "name": "python3"
  },
  "language_info": {
   "codemirror_mode": {
    "name": "ipython",
    "version": 3
   },
   "file_extension": ".py",
   "mimetype": "text/x-python",
   "name": "python",
   "nbconvert_exporter": "python",
   "pygments_lexer": "ipython3",
   "version": "3.8.5"
  }
 },
 "nbformat": 4,
 "nbformat_minor": 4
}
