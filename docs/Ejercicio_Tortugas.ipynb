{
 "cells": [
  {
   "cell_type": "markdown",
   "metadata": {
    "slideshow": {
     "slide_type": "slide"
    }
   },
   "source": [
    "## Tarea: Tortugas con olfato\n",
    "\n",
    "En clase henos definido la función *TortugaConMemoria*, \n",
    "que es capaz de recordar la ruta que ha seguido y \n",
    "dibujarla mediante el método *plot*. \n",
    "En este ejercicio, especializaremos esta clase, \n",
    "creando una clase llamada `TortugaConOlfato` derivada de \n",
    "*TortugaConMemoria*.\n",
    "\n",
    "La clase *TortugaConOlfato* tendrá un constructor que reciba como primer parámetro una función llamada `olor`. Esta función será almacenada como atributo por todos los objetos de esta clase. El resto serán los parámetros usuales de la clase *Tortuga*: posición y orientación. \n",
    "\n",
    "La función *olor* toma las coordenadas *(x,y)* de un punto del plano y devuelve un número real relacionada con la intensidad del olor en de punto.\n",
    "Para fijar ideas, supondremos en concreto que *olor(x,y)* es la distancia Euclídea a un punto dado, $(A_x, A_y)$, donde está situado el alimento. Valores bajos de esta función significarán que el alimento está cerca. \n",
    "\n",
    "$$ {olor}(x,y) = \\sqrt{(x-A_x)^2 + (y-A_y)^2}$$"
   ]
  },
  {
   "cell_type": "markdown",
   "metadata": {
    "slideshow": {
     "slide_type": "slide"
    }
   },
   "source": [
    "La tortuga está interesada en minimizar la función de olor, pero sus conocimientos matemáticos son escasos, de modo que utiliza el siguiente algoritmo sencillo:\n",
    "\n",
    "> Repetir $n$ veces:\n",
    ">   1. Avanzar una distancia, $d$\n",
    ">   2. Si no huele mejor, girar a la derecha un ángulo $a$\n",
    "\n",
    "Para ello, toda *TortugaConOlfato* tendrá un método `huele_mejor()`. Dada una *TortugaConOlfato*, *t*, entonces\n",
    "\n",
    "- `t.huele_mejor()` devolverá un valor booleano verdadero (True) si la función *olor*, evaluada en el la posición actual de *t*, es menor que el olor en la posición anterior (de la ruta seguida por la tortuga). \n",
    "\n",
    "- En otro caso, `t.huele_mejor()` devolverá falso. Si la tortuga todavía no se ha movido (y por tanto su ruta contiene solamente a la posición inicial), *huele_mejor()* también devolverá el valor falso."
   ]
  },
  {
   "cell_type": "markdown",
   "metadata": {
    "slideshow": {
     "slide_type": "slide"
    }
   },
   "source": [
    "En este ejercicio se pide:\n",
    "\n",
    "1) Implementar en Python la clase *TortugaConOlfato* descrita anteriormente, derivada de una clase ya existente TortugaConMemoria (vista en clase)"
   ]
  },
  {
   "cell_type": "markdown",
   "metadata": {
    "slideshow": {
     "slide_type": "slide"
    }
   },
   "source": [
    "2) Implementar en un cuaderno Jupyter el algoritmo sencillo descrito anteriormente y mostrar las gráficas resultantes para los siguientes parámetros, siendo siempre $(A_x, A_y)=(10,10)$:\n",
    "- a) $n=100$, $d=1$, $a=60$ (grados sexagesimales).\n",
    "- b) Parece que la tortuga no alcanza el alimento, probemos yendo más despacio (y dando más pasos): $n=300$, $d=0.1$, $a=60$ grados.\n",
    "- c) Mejor, ¿verdad? ¿Y qué tal con: $n=20000$, $d=0.02$, $a=10$ grados?\n",
    "    \n",
    "**Observación**: las gráficas quedarán mejor si ajustas la figura para que los ejes x e y usen la misma razón de escala (\"aspect ratio\"). Busca información sobre \"set_aspect\" en Matplotlib."
   ]
  },
  {
   "cell_type": "markdown",
   "metadata": {
    "slideshow": {
     "slide_type": "slide"
    }
   },
   "source": [
    "3) Consideramos dos tortugas, `presa` y `predador`. La primera avanza hacia la madriguera intentando minimizar la función de olor utilizada anteriormente. El predador intenta minimizar su propia función *olor*, que definiremos como: \n",
    "\n",
    "> \"*olor(x,y)*=distancia euclídea a la posición actual de la presa\". \n",
    "\n",
    "Utilizaremos un algoritmo sencillo: en cada iteración, n:\n",
    "- La presa avanza una distancia $d_1$ y  (si no huele mejor) gira un ángulo $a_1$.\n",
    "- Seguidamente, el predador avanza $d_2$ y (si no huele mejor) gira $a_2$.\n",
    "\n",
    "Se pide:\n",
    "- a) Dibujar la gráfica con las rutas de predador y presa para $n=1200$, $d_1=d_2=0.05$, $a_1=a_2=30$ grados. ¿Crees que el predador alcanzará a la presa?\n",
    "- b) Dibujar esta gráfica pero usando ahora $d_1=0.5$ y $d_2=3\\cdot d_1$. Curioso el resultado ¿verdad?"
   ]
  },
  {
   "cell_type": "markdown",
   "metadata": {
    "slideshow": {
     "slide_type": "slide"
    }
   },
   "source": [
    "4) Opcionalmente: prueba alguna variante que te parezca interesante! (¿desviaciones aleatorias en distancia o ángulo? ¿aumento o disminución de la distancia recorrida? ¿Más tortugas? ¿Otros sentidos?...)"
   ]
  },
  {
   "cell_type": "code",
   "execution_count": null,
   "metadata": {},
   "outputs": [],
   "source": []
  }
 ],
 "metadata": {
  "kernelspec": {
   "display_name": "Python 3",
   "language": "python",
   "name": "python3"
  },
  "language_info": {
   "codemirror_mode": {
    "name": "ipython",
    "version": 3
   },
   "file_extension": ".py",
   "mimetype": "text/x-python",
   "name": "python",
   "nbconvert_exporter": "python",
   "pygments_lexer": "ipython3",
   "version": "3.8.10"
  }
 },
 "nbformat": 4,
 "nbformat_minor": 4
}
