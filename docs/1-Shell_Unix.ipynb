{
 "cells": [
  {
   "cell_type": "markdown",
   "metadata": {
    "slideshow": {
     "slide_type": "slide"
    }
   },
   "source": [
    "# Tema 1. Introducción a la shell Unix\n",
    "\n",
    "1. Sistemas operativos UNIX. Software libre, el sistema GNU/Linux\n",
    "2. El concepto de *shell Unix*. \n",
    "3. Primeros pasos.\n",
    "4. Edición de texto.\n",
    "5. Eliminar, moviendo, copiando archivos\n",
    "6. Redirección de la entrada/salida\n",
    "7. Trabajos en primer y segundo plano. Moficar y matar procesos\n",
    "8. Variables de entorno, programación: *Shell scripts* "
   ]
  },
  {
   "cell_type": "markdown",
   "metadata": {
    "slideshow": {
     "slide_type": "slide"
    }
   },
   "source": [
    "# 1. Sistemas operativos UNIX. Software libre, el sistema GNU/Linux"
   ]
  },
  {
   "cell_type": "markdown",
   "metadata": {
    "slideshow": {
     "slide_type": "slide"
    }
   },
   "source": [
    "# Sistemas operativos Unix\n",
    "\n",
    "* **Unix** (registrado oficialmente como UNIX®) es un sistema operativo **multitarea** y **multiusuario** que data de **1969** en EEUU.\n",
    "* Hoy existen numerosos sitemas \"de tipo Unix\", en la práctica, el término [**Unix**](https://es.wikipedia.org/wiki/Unix) se utiliza  en la siguiente acepción: una familia de sistemas multiusuario que verifican una **norma estándar** llamada [POSIX](https://es.wikipedia.org/wiki/POSIX). \n",
    "\n",
    "* Esta norma define una **interfaz estándar** del sistema operativo y el entorno, incluyendo un *intérprete de comandos* (o **shell**). \n",
    "\n",
    "* También se definen programas de **utilidades comunes** para apoyar la *portabilidad de las aplicaciones* a nivel de código fuente.\n",
    "\n",
    "* Mac OS/X y **GNU/Linux** son algunos de los sistemas operativos que verifican total o mayoritariamente este estándar.\n",
    "\n",
    "* Los sistemas **Windows** no son compatibles con POSIX. Existen herramientas como [Cygwin](https://es.wikipedia.org/wiki/Cygwin) para portar a Windows software que ejecuta en sistemas POSIX."
   ]
  },
  {
   "cell_type": "markdown",
   "metadata": {
    "slideshow": {
     "slide_type": "slide"
    }
   },
   "source": [
    "# El software libre\n",
    "\n",
    "* El software que se estudia en esta asignatura, como la mayor parte de compiladores y sitemas para computación científica, tienen **licencia libre** \\[[1](https://www.gnu.org/philosophy/free-sw.es.html), [2](https://en.wikipedia.org/wiki/Category:Free_science_software)\\]. \n",
    "\n",
    "#### Definición (software libre):\n",
    "\n",
    "Un programa es software libre si los usuarios tienen las cuatro libertades esenciales siguientes:\n",
    "\n",
    "* La libertad de **ejecutar** el programa como se desee, con cualquier propósito (libertad 0).\n",
    "* La libertad de **estudiar** cómo funciona el programa, y **cambiarlo**  (libertad 1). El acceso al código fuente es una condición necesaria para ello.\n",
    "* La libertad de redistribuir **copias** (libertad 2).\n",
    "* La libertad de distribuir **copias de sus versiones modificadas** (libertad 3). El acceso al código fuente es una condición necesaria para ello.\n"
   ]
  },
  {
   "cell_type": "markdown",
   "metadata": {
    "slideshow": {
     "slide_type": "fragment"
    }
   },
   "source": [
    "\n",
    "* Esta es la forma de habitual de relacionarse en comunidades científicas. Aplicada al campo del desarrollo de software, genera oportunidades de negocio distintas a las aquellas otros modelos de desarrollo de software basados en la privación de derechos (de estudio, de copia, de distribución, de ejecución) a los usuarios [\\[3\\]](https://www.gnu.org/philosophy/fsfs/free_software.es.pdf)."
   ]
  },
  {
   "cell_type": "markdown",
   "metadata": {
    "slideshow": {
     "slide_type": "slide"
    }
   },
   "source": [
    "\n",
    "* En los años 80, *Richard Stallman* junto a otros planteó el objetivo de desarrollar un **sistema operativo Unix completamente libre**.\n",
    "\n",
    "* El sistema se llamó **GNU**. Para él, se creó una licencia libre llamada **GPL**. Existen otras licencias libres, con diversas variantes (*BSD*, *Apache*,...)\n",
    "\n",
    "* En los años 99 se desarrollo el núcleo **Linux**, por el finlandes Linus Torvalds, con licencia GPL. Nacieron las distribuciones **GNU/Linux** conocidas en la actualidad\n",
    "\n",
    "<table border=\"0\">\n",
    " <tr>\n",
    "    <td><img width=\"70%\" src=\"https://upload.wikimedia.org/wikipedia/commons/thumb/5/54/NicoBZH_-_Richard_Stallman_%28by-sa%29_%2810%29.jpg/320px-NicoBZH_-_Richard_Stallman_%28by-sa%29_%2810%29.jpg\"\n",
    "     alt=\"R. M. Stallman\"\n",
    "     />\n",
    "     </td>\n",
    "    <td><img width=\"60%\" src=\"https://upload.wikimedia.org/wikipedia/commons/thumb/b/b1/LinuxCon_Europe_Linus_Torvalds_05.jpg/240px-LinuxCon_Europe_Linus_Torvalds_05.jpg\"\n",
    "     alt=\"Linus Torvalds\" />\n",
    "     </td>\n",
    "    </tr>\n",
    "</table>\n",
    "\n",
    "* Hoy, existen [decenas de miles de aplicaciones libres](https://directory.fsf.org/wiki/Main_Page) disponibles para todos los sistemas operativos usuales.\n",
    "\n",
    "* En sistemas **GNU** y en el núcleo **Linux** se basan decenas de *miles de millones* de dispositivos. Por ejemplo, [**Android**](https://es.wikipedia.org/wiki/Android) (propiedad de Google y no libre) está basado en el núcleo Linux.  \n",
    "<!-- img src=\"https://upload.wikimedia.org/wikipedia/commons/8/83/World_Wide_Smartphone_Sales.png\" alt=\"Comparativa\" style=\"width: 40%\"/> -->\n",
    "\n",
    "*(imágenes tomadas de Wikimedia Commons)*\n"
   ]
  },
  {
   "cell_type": "markdown",
   "metadata": {
    "slideshow": {
     "slide_type": "slide"
    }
   },
   "source": [
    "# El sistema GNU/Linux en supercomputación\n",
    "\n",
    "* Este sitema operativo es es el más utilizado entre los [**ordenadores más potentes del mundo**](https://www.top500.org/), que están orientados a la **computación de alto rendimiento**\n",
    "\n",
    "![Top500.org: sistemas con mayor rendimiento](https://upload.wikimedia.org/wikipedia/commons/thumb/0/0d/Operating_systems_used_on_top_500_supercomputers.svg/500px-Operating_systems_used_on_top_500_supercomputers.svg.png)\n",
    "\n"
   ]
  },
  {
   "cell_type": "markdown",
   "metadata": {
    "slideshow": {
     "slide_type": "slide"
    }
   },
   "source": [
    "# 2. El concepto de *shell Unix*. Primeros pasos."
   ]
  },
  {
   "cell_type": "markdown",
   "metadata": {
    "slideshow": {
     "slide_type": "slide"
    }
   },
   "source": [
    "#  Introducción\n",
    "\n",
    "* Además de entornos de usuario gráficos, basados en el ratón, los ordenadores *Unix* siempre han dispuesto de potentes interfaces que permien exprimirlos al 100% utilizando **exclusivamente un teclado**.\n",
    "\n",
    "* Este tipo de interfaz, basada en **líneas de órdenes de texto**, se conoce como *shell Unix*. \n",
    "\n",
    "* Son el entorno utilizado en **grandes servidores** multiusuarios.\n",
    "\n",
    "* Pero también en **ordenadores personales** tienen sus ventajas.\n",
    "\n",
    "* Ejemplo: tratamiento de grandes volúmnes de datos y, en general, ciencia de datos o **big data**. \n",
    "    \n",
    "* Aunque de **aprendizaje más complejo** que las usuales interfaces basadas en el ratón, su dominio posibilita la **automatización** y la realización de tareas que **de otra forma no serían factibles**.\n",
    "\n"
   ]
  },
  {
   "cell_type": "markdown",
   "metadata": {
    "slideshow": {
     "slide_type": "slide"
    }
   },
   "source": [
    "## Definiciones \n",
    "\n",
    "* Una **shell** es un programa que te permite interactuar con el sistema operativo del ordenador (y, a través de él, con el software y el hardware de tu equipo) escribiendo órdenes o *\"comandos\"*. \n",
    "\n",
    "* El **intérprete** de la shell es un programa que interpreta la orden y, típicamente, realiza alguna acción como resultado. \n",
    "\n",
    "* Algunas veces a la shell se la conoce con las siglas **CLI** (del ingés *comand line interface*), como opuesto a la *interfaz gráfica de usuario* o **GUI** (del inglés *graphical user interface*), basado de señalar y hacer \"click\" con el ratón. \n",
    "\n",
    "* La shell Unix más extendida es la denominada [**BASH**](https://www.gnu.org/software/bash/manual/html_node/index.html) (*Bourne Again SHell*).\n",
    "\n",
    "#### Nota:\n",
    "La *shell* Unix consta e numerosas órdenes o *comandos*. Aquí sólo se estudiarán algunos más relevantes. Ver por ejemplo, [Wikipedia-unix-utilities](https://en.wikipedia.org/wiki/List_of_Unix_commands) para links con más detalles."
   ]
  },
  {
   "cell_type": "markdown",
   "metadata": {
    "slideshow": {
     "slide_type": "slide"
    }
   },
   "source": [
    "# La shell en algunos sistemas operativos \n",
    "\n",
    "1. Los sistemas **GNU/Linux** son de tipo Unix. Por defecto, suelen usar entornos gráficos, por ejemplo de tipo *Gnome* o *KDE*, pero disponen de terminales gráficas que son fácilmente accesibles.\n",
    "\n",
    "1. El sistema operativo de **Apple**, MacOSX, es de tipo Unix, por tanto se cuenta directamente con la opción de usar una shell de Unix en una terminal (ve a Aplicaciones --> Utilidades\n",
    "--> Terminal para abrir una terminal). "
   ]
  },
  {
   "cell_type": "markdown",
   "metadata": {
    "slideshow": {
     "slide_type": "slide"
    }
   },
   "source": [
    "# La shell en algunos sistemas operativos (2)\n",
    "\n",
    "1. Los sistemas **Windows** usan entornos gráficos y...  \n",
    "    1. Es posible abrir una terminal de tipo **línea de comando**. Sin embargo, esta línea de comando **no** es una shell Unix. \n",
    "\n",
    "    2. Para ejecutar una ***shell* de tipo Unix dentro de Windows**, se puede usar [Cygwin](https://www.cygwin.com/).  \n",
    "\n",
    "    2. A partir de Windows 10 es posible, incluso, ejecutar un escritorio de tipo GNU/Linux (en concreto, de la distribución [Ubuntu](https://www.ubuntu.com/)). \n",
    "    2. Si se desea probar un sistema GNU/Linux para examinarlo y estudiar más seriamente la *shell* unix, es recomendable el instalarlo dentro de una **máquina virtual** (para ello, por ejemplo, se puede usar [VirtualBox](https://www.virtualbox.org/)). \n",
    "    2. Por supuesto, la **opción óptima** es instalar una distribución GNU/Linux \"físicamente\" en el ordenador (por ejemplo, se puede recomendar la instalación de [Ubuntu](https://www.ubuntu.com/)). Al arrancar el sistema se podrá elegir entre ambos sistemas operativos."
   ]
  },
  {
   "cell_type": "markdown",
   "metadata": {
    "slideshow": {
     "slide_type": "slide"
    }
   },
   "source": [
    "## Tarea 1: Instalar una *shell UNIX* \n",
    "\n",
    "Asegúrate de contar con una shell Unix en tu ordenador. \n",
    "\n",
    "Si tu ordenador tiene tan solo el sistema Windows, necesitarás instalar una shell (o un sistema operativo GNU/Linux completo), por lo que tienes que elegir una de las posibilidades siguientes:\n",
    "\n",
    "- Instalar Cygwin\n",
    "- Habilitar el escritorio de Ubuntu GNU/Linux dentro de Windows\n",
    "- Instalar GNU/Linux dentro de una máquina virtual\n",
    "- Instalar GNU/Linux de forma nativa (habilitar doble arranque windows/linux)"
   ]
  },
  {
   "cell_type": "markdown",
   "metadata": {
    "slideshow": {
     "slide_type": "slide"
    }
   },
   "source": [
    "# 3. Primeros pasos"
   ]
  },
  {
   "cell_type": "markdown",
   "metadata": {
    "slideshow": {
     "slide_type": "slide"
    }
   },
   "source": [
    "# La terminal y el *prompt*\n",
    "\n",
    "\n",
    "* La shell Unix suele utilizarse dentro de ventanas de texto conocidas como **consolas** o **terminales** de texto.\n",
    "\n",
    "* Cuando se abre una terminal, ésta muestra un indicador, que es conocido como **prompt**, para indicar que está esperando una entrada. \n",
    "\n",
    "* En estas notas se usará generalmete un signo **\\$** para indicar un prompt de Unix, aunque tu sistema puede tener un prompt algo diferente.\n",
    "\n",
    "* Por ejemplo, antecediendo a un signo *\\$*, es usual que aparecezcan el nombre del usuario y el nombre del ordenador.\n",
    "\n",
    "* Confrecuenca, el prompt muestra también el nombre de un directorio (o carpeta) llamada *carpeta actual* o *directorio de trabajo*"
   ]
  },
  {
   "cell_type": "markdown",
   "metadata": {
    "slideshow": {
     "slide_type": "slide"
    }
   },
   "source": [
    "# Directorio de trabajo\n",
    "\n",
    "* El **directorio de trabajo** es aquél que utiliza ls *shell* como referencia \n",
    "para las rutas relativas de los archivos. Es decir, es el directorio donde \n",
    "\"*se encuentra situada*\" la *shell*.\n",
    "\n",
    "* La primera vez que se abre la terminal, el directorio de trabajo se situará en una **carpeta de inicio**  (o carpeta *home*) que es específica a cada usuario."
   ]
  },
  {
   "cell_type": "markdown",
   "metadata": {
    "slideshow": {
     "slide_type": "slide"
    }
   },
   "source": [
    "* Por ejemplo, para el usuario *juandelacosa* su carpeta de inicio podría ser\n",
    "\n",
    "        /home/juandelacosa\n",
    "        \n",
    "* La orden **pwd** (\"*print working directory*\", imprimir directorio de trabajo) sirve para indicar la ruta completa del directorio donde se está trabajando actualmente. \n",
    "\n",
    "* **Ejemplo**: si el usuario *juandelacosa* abre su terminal y ejecuta *pwd*, podría obtener el siguiente resultado:\n",
    "```sh\n",
    "$ pwd\n",
    "/home/juandelacosa\n",
    "```"
   ]
  },
  {
   "cell_type": "markdown",
   "metadata": {
    "slideshow": {
     "slide_type": "slide"
    }
   },
   "source": [
    "# La orden *cd*\n",
    "\n",
    "\n",
    "* Para cambiar a otro directorio de trabajo, se usa el comando *cd* (\"change directory\"). \n",
    "* Ejemplo: para subir al directorio situado un nivel superior, el usuario *juandelacosa* podría escribir la siguiente ruta absoluta (una ruta es aquella que comienza con \"/\"):\n",
    "\n",
    "```sh\n",
    "$ cd /home\n",
    "$ pwd\n",
    "/home\n",
    "```\n",
    "\n",
    "* Para subir un nivel, también se puede utilizar la expresión \"..\" como en el siguiente ejemplo:\n",
    "\n",
    "```sh\n",
    "$ cd ..\n",
    "$ pwd\n",
    "/\n",
    "```\n",
    "\n",
    "* La última línea \"/\" designa el *directorio raíz* del sistema de ficheros. A partir de él, cuelga todo el sistema de carpetas y ficheros del sistema. "
   ]
  },
  {
   "cell_type": "markdown",
   "metadata": {
    "slideshow": {
     "slide_type": "slide"
    }
   },
   "source": [
    "* Para volver a su carpeta de inicio, el usuario podría escribir la ruta absoluta:\n",
    "\n",
    "```sh\n",
    "$ cd /home/juandelacosa\n",
    "$ pwd\n",
    "/home/juandelacosa\n",
    "```\n",
    "\n",
    "* O bien  (ya que \"*~*\" es un alias de la carpeta de inicio) podría escribir simplemente:\n",
    "\n",
    "```sh\n",
    "$ cd ~\n",
    "```\n",
    "        \n",
    "O incluso\n",
    "\n",
    "```sh\n",
    "$ cd\n",
    "```"
   ]
  },
  {
   "cell_type": "markdown",
   "metadata": {
    "slideshow": {
     "slide_type": "slide"
    }
   },
   "source": [
    "# La orden *ls*. Opciones.\n",
    "\n",
    "La orden *ls* (del inglés *list*) se usa para listar los ficheros y directorios contenidos en directorio actual de trabajo. \n",
    "\n",
    "* Como la mayoría de las órdemes, *ls* puede tener **opciones** y **argumentos**. \n",
    "\n",
    "* Las **opciones** se utilizan para indicar a la shell información adicional sobre la acción de la orden, y **suelen ir precedidas de un guión**. Por ejemplo:\n",
    "\n",
    "```sh\n",
    "$ ls -l\n",
    "```\n",
    "\n",
    "* La opción `-l` indica a *ls* que proporcione un listdo largo, que contendrá información adicional sobre cada archivo (como que tamaño tiene, quién es el dueño, cuando se modificó por última vez, etc.). \n",
    "\n",
    "* Por ejemplo, los primeros caracteres nos indican qué usarios tienen permiso para leer, escribir o ejecutar el archivo, ver\n",
    "[\\[Wikipedia\\]](http://en.wikipedia.org/wiki/File_system_permissions).\n",
    "\n",
    "* Otra opción como ejemplo:  `-F` ,  hace que los directorios se muestren con una `/` y los archivos  ejecutables con un asterisco `*`, lo que es útil para distinguirlos de archivos ordinarios.\n",
    "\n",
    "\n",
    "```sh\n",
    "$ ls -F\n",
    "```\n",
    " "
   ]
  },
  {
   "cell_type": "markdown",
   "metadata": {
    "slideshow": {
     "slide_type": "slide"
    }
   },
   "source": [
    "# La orden *ls*. Argumentos.\n",
    "\n",
    "* Las órdenes, también pueden tomar **argumentos** sobre los que se aplicará la orden. \n",
    "\n",
    "* En el caso de *ls*, se puede especificar como argumento una lista de archivos y directorios de los que se hará un listado. \n",
    "\n",
    "* Por ejemplo, si sólo queremos listar la información sobre un archivo específico llamado \"mifichero\":\n",
    "\n",
    "```sh\n",
    "$ ls -l mifichero\n",
    "```\n",
    "\n",
    "* Se puede usar el carácter *comodín* `*` para seleccionar más de un\n",
    "archivo:\n",
    "\n",
    "```sh\n",
    "$ ls *.x\n",
    "```"
   ]
  },
  {
   "cell_type": "markdown",
   "metadata": {
    "slideshow": {
     "slide_type": "slide"
    }
   },
   "source": [
    "* La orden *ls* *sin argumentos* ¡no muestra todos los archivos y subdirectorios!. No se muestran los archivos y directorios que **comiencen con un punto**. Estos son **archivos ocultos**. \n",
    "\n",
    "* Entre ellos siempre están \"`.`\" (directorio actual) y \"`..`\" (directorio superior). Como hemos visto,  el último se usa frecuentemente para moverse un nivel hacia arriba en la estructura de directorios via:\n",
    "\n",
    "```sh\n",
    "$ cd ..\n",
    "```\n",
    "\n",
    "Para listar todos los archivos ocultos se puede usar la opción -a:\n",
    "```sh\n",
    "$ ls -al\n",
    "```\n",
    "\n",
    "En esta orden hemos combinado las opciones -a y -l en una sola, -al. Esto se puede hacer para todas las opciones."
   ]
  },
  {
   "cell_type": "markdown",
   "metadata": {
    "slideshow": {
     "slide_type": "slide"
    }
   },
   "source": [
    "# Páginas del manual\n",
    "\n",
    "* Para obtener más infomación sobre la orden *ls*, se puede escribir:\n",
    "\n",
    "```sh\n",
    "$ man ls\n",
    "```\n",
    "\n",
    "* Esta orden ejecuta el comando *man* (páginas del manual) con el\n",
    "argumento *ls*, y provoca que Unix muestre la información del manual disponible sobre *ls*.\n",
    "\n",
    "* Si haces esto, probablemente se abrirá una página de información en la que aparece el carácter *`:` en la parte inferior. \n",
    "\n",
    "* El *promt* `:` indica que se está un **entorno diferente**, diseñado para **desplazarse o buscar a través de un gran archivo de texto**. "
   ]
  },
  {
   "cell_type": "markdown",
   "metadata": {
    "slideshow": {
     "slide_type": "slide"
    }
   },
   "source": [
    "* En este nuevo entorno shell, existen combinaciones de teclas (órdenes) diferentes de los de la shell de Unix. Los más útiles son:\n",
    "\n",
    "    : `q` [*quit*, para salir de esta shell y volver a Unix]\n",
    "    \n",
    "    : `j` o <flecha abajo> [para ir a la línea siguiente]\n",
    "    \n",
    "    : `k` o <flecha arriba> [para ir a la línea anterior]\n",
    "    \n",
    "    : `<espacio>` [para mostrar la siguiente pantalla completa]\n",
    "    \n",
    "    : `/` [buscar texto]\n",
    "    \n",
    "    : `n` [buscar siguiente aparición del texto anterior]"
   ]
  },
  {
   "cell_type": "markdown",
   "metadata": {
    "slideshow": {
     "slide_type": "slide"
    }
   },
   "source": [
    "# 4. Edición de texto."
   ]
  },
  {
   "cell_type": "markdown",
   "metadata": {
    "slideshow": {
     "slide_type": "slide"
    }
   },
   "source": [
    "# Editores en la terminal\n",
    "\n",
    "* Existen dos excelentes editores de texto para la terminal Unix llamados \n",
    "**vim** y **emacs**. No preguntes cuál de ellos es mejor, excepto si te gustan                  [*las guerras santas*](https://en.wikipedia.org/wiki/Editor_war) :).\n",
    "\n",
    "* Si te interesa usar la terminal en el futuro, es muy recomendable buscar información sobre ellos y aprender a usarlos. \n",
    "\n",
    "* **Tarea optativa**: elegir uno de estos editores para utilizarlos en la terminal, pedir ayuda, buscar informacióin en internet\n",
    "\n",
    "* Además de éstos, existe un editor muy sencillo (y mucho menos potente) llamado *nano*. Para editar un fichero basta escribir:\n",
    "```sh\n",
    "$ nano mifichero\n",
    "```\n",
    "\n",
    "* Para grabar se escribe `^O` y para salir `^X` (esta información se ofrece dentro del editor), donde `^` denota a la tecla `Ctrl`."
   ]
  },
  {
   "cell_type": "markdown",
   "metadata": {
    "slideshow": {
     "slide_type": "slide"
    }
   },
   "source": [
    "# Visualización del contenido de un archivo\n",
    "\n",
    "\n",
    "* Para visualizar archivos de texto, se puede usar el comando **less** (o la orden original de Unix *more*, algo menos sofisticada).\n",
    "```sh\n",
    "$ less mi_archivo\n",
    "```\n",
    "\n",
    "* Esta orden mostrará la primera pantalla completa del archivo llamado *mi_archivo* y mostrará el prompt `:`.\n",
    "\n",
    "* El entorno `:` se utiliza como fue descrito al hablar de la orden *man* \n",
    "\n",
    "* El comando **cat** imprime el archivo completo, en lugar de una página cada vez. El nombre *cat* proviene de \"*cat*enate\" (concatenar).  \n",
    "\n",
    "* Puede usarse para mostrar el contenido de multiples archivos, consecutivamente y en el orden dado, por ejemplo\n",
    "\n",
    "```sh\n",
    "$ cat file1 file2 file3\n",
    "```\n",
    "\n",
    "A veces, solo se desean ver las primeras líneas de un archivo (o las últimas). Las órdenes **head** y **tail** realizan esta labor. Por ejemplo, para ver las 10 primeras filas y las 5 últimas del fichero *filename*:\n",
    "\n",
    "```\n",
    "$ head -10 filename\n",
    "$ tail -5 filename\n",
    "```"
   ]
  },
  {
   "cell_type": "markdown",
   "metadata": {
    "slideshow": {
     "slide_type": "slide"
    }
   },
   "source": [
    "# Eliminar, mover, copiar archivos\n",
    "\n",
    "\n",
    "* Para eliminar un archivo llamado *mibasura*, se puede usar la orden **rm**:\n",
    "\n",
    "    $ rm mibasura\n",
    "    \n",
    "* Si se prefiere que el sistema te pida confirmación antes de borrar, se puede usar la opción `-i`: \n",
    "\n",
    "    $ rm -i mibasura\n",
    "    rm: ¿borrar el fichero 'mibasura'? (s/n)\n",
    "\n",
    "* También se puede usar la orden **alias**, para hacer esto por defecto:\n",
    "\n",
    "    $ alias rm='rm -i'\n",
    "\n",
    "* El problema es que, al cerrar la terminal, el alias desaparecerá. Una solución es incluir la siguiente línea en el fichero oculto `.bashrc` (situado en la carpeta de inicio del usuario):\n",
    "\n",
    "    alias rm='rm -i'"
   ]
  },
  {
   "cell_type": "markdown",
   "metadata": {
    "slideshow": {
     "slide_type": "slide"
    }
   },
   "source": [
    "* Para forzar el borrar sin preguntar (esto es útil si se está eliminando un grupo de archivos de una vez y si se está seguro de lo que está haciendo), existe la opción `-f`. Por ejemplo, la siguiente orden borrará todos los ficheros con la extensión *.jpg* de la carpeta actual:\n",
    " \n",
    "     $ rm -f *.jpg\n",
    "\n",
    "* La orden rm no borra directorios, excepto si se usa la opción `-r` (borrado recursivo. La opción  `-rf` borrará todo el directorio, de forma recursiva, sin preguntar. Cuidado, no existe vuelta atrás, ¡¡usa la opción `-rf` solamente si estás seguro de lo que haces¡¡)"
   ]
  },
  {
   "cell_type": "markdown",
   "metadata": {
    "slideshow": {
     "slide_type": "slide"
    }
   },
   "source": [
    " \n",
    "* Para renombrar un archivo o moverlo a un lugar diferente (por ejemplo, un directorio diferente), se usa **mv**:\n",
    "\n",
    "    $ mv oldfile newfile\n",
    "\n",
    "* El segundo argumento de *mv* puede ser una ruta completa o relativa a un directorio y, ese caso, se pueden mover **varios ficheros**:\n",
    "\n",
    "    $ mv fichero1 fichero2 midirectorio\n",
    "\n",
    "* Para copiar un archivo, se puede usar la orden **cp**:\n",
    "\n",
    "    $ cp oldfile newfile\n",
    "\n",
    "* El original *oldfile* todavía existe. \n",
    "\n",
    "* Para copiar un estructura entera recursivamente (copiando todos los archivos y cualquier directorio de la misma manera), se puede usar la opción `-r`\n",
    "\n",
    "    $ cp -r olddir newdir"
   ]
  },
  {
   "cell_type": "markdown",
   "metadata": {
    "slideshow": {
     "slide_type": "slide"
    }
   },
   "source": [
    "# Redirección de la entrada/salida"
   ]
  },
  {
   "cell_type": "markdown",
   "metadata": {
    "slideshow": {
     "slide_type": "slide"
    }
   },
   "source": [
    "# Redirección de la salida estándar\n",
    "\n",
    "* En ocasiones, nos puede interesar que la **salida de una orden** se  dirija **hacia un fichero**, en vez de hacia la pantalla (que en principio es la salida estándar). \n",
    "* Para ello se utiliza el carácter \"__&gt;__\" y a continuación el nombre del fichero. Por ejemplo:\n",
    "\n",
    "    $ cat fich1 fich2 fich3 > ficherogrande\n",
    "    \n",
    "* En este caso, el contenido de los ficheros `fich1` `fich2` `fich3` se  escribirá en`ficherogrande`. \n",
    "\n",
    "* **Atención**: ¡el contenido previo de *ficherogrande* será eliminado!\n",
    "\n",
    "* Si deseamos conservar el contenido del último fichero podemos usar los caracteres __\"&gt;&gt;\"__. Por ejemplo, la siguiente orden añadirá el contenido de los tres ficheros al final del último.\n",
    "\n",
    "    $ cat fich1 fich2 fich3 >> ficherogrande\n",
    "    "
   ]
  },
  {
   "cell_type": "markdown",
   "metadata": {
    "slideshow": {
     "slide_type": "slide"
    }
   },
   "source": [
    "\n",
    "En ocasiones, deseamos que la salida de una orden se redirija hacia otra orden.\n",
    "\n",
    "Por ejemplo, consideremos la orden **sort**, que puede utilizarse para ordenar alfabéticamente las lineas de un fichero:\n",
    "\n",
    "    $ cat mifichero\n",
    "    Hola\n",
    "    Adios\n",
    "    Fin\n",
    "    \n",
    "    $ sort mifichero \n",
    "    Adios\n",
    "    Fin\n",
    "    Hola\n",
    "    \n",
    "**Ejemplo**: Si deseamos ordenar alfabéticamente las 17 últimas lineas de un fichero llamado \"*listapalabras*\" podemos escribir:\n",
    "\n",
    "    $ tail -17 | sort\n",
    "    \n",
    "El carácter \"|\" establece una \"tubería\" (en inglés, *pipe*) redirigiendo la salida de *tail -17* hacia la entrada de la orden sort.\n"
   ]
  },
  {
   "cell_type": "markdown",
   "metadata": {
    "slideshow": {
     "slide_type": "slide"
    }
   },
   "source": [
    "#### Otro ejemplo\n",
    "\n",
    "La orden **wc** cuenta el número de líneas, palabras y caracteres de un fichero. \n",
    "\n",
    "Las opciones -l, -w y -c devuelven respectivamente las líneas, palabras y caracteres.\n",
    "\n",
    "Por ejemplo, sabiendo que el fichero `/usr/share/dict/spanish` está formado por líneas que contienen las palabras de un diccionario español, podemos escribir\n",
    "\n",
    "    $ wc -w /usr/share/dict/spanish \n",
    "    86016 /usr/share/dict/spanish\n",
    "    \n",
    "Es decir, el diccionario tiene 86016 palabras. \n",
    "\n",
    "También podríamos haber usado *grep* de la siguiente forma:\n",
    "\n",
    "    $ cat /usr/share/dict/spanish | wc -l\n",
    "    86016\n"
   ]
  },
  {
   "cell_type": "markdown",
   "metadata": {
    "slideshow": {
     "slide_type": "slide"
    }
   },
   "source": [
    "# Búsqueda de coincidencias\n",
    "\n",
    "La orden **grep** se utiliza para buscar las conicidencias (una palabra o una expresión) en un fichero. \n",
    "\n",
    "Por ejemplo, la orden *grep* proporcionará el siguiente resultado al buscar la expresión \"pago\" en el diccionario:\n",
    "\n",
    "    $ grep pago /usr/share/dict/spanish\n",
    "    areópago\n",
    "    campago\n",
    "    ectópago\n",
    "    galápago\n",
    "    impago\n",
    "    pago\n",
    "    pagoda\n",
    "    pagote\n",
    "    relámpago\n",
    "    "
   ]
  },
  {
   "cell_type": "markdown",
   "metadata": {
    "slideshow": {
     "slide_type": "slide"
    }
   },
   "source": [
    "La orden anterior sería equivalente a\n",
    "\n",
    "    $ cat /usr/share/dict/spanish | grep pago\n",
    "     \n",
    "Podríamos incluso encadenar varias tuberías para contar las palabras en español que contienen la expresión \"pago\":\n",
    "\n",
    "    $cat /usr/share/dict/spanish | grep pago | wc -w\n",
    "    9\n",
    "\n",
    "O cualquier otra expresión `;-)`\n",
    "\n",
    "    $ cat /usr/share/dict/spanish  | grep rafa | wc -w\n",
    "    58\n",
    "    \n",
    "Por supuesto, se puede redireccionar la salida. \n",
    "\n",
    "**Ejercicio**: Sabiendo que la opción `-i` se utiliza en *grep* para ignorar mayúsculas/minúsculas, ¿cuál es el contenido del fichero */tmp/salida.txt*?\n",
    "\n",
    "    $ grep -i Rafa /usr/share/dict/spanish | wc -w > /tmp/salida.txt\n"
   ]
  },
  {
   "cell_type": "markdown",
   "metadata": {
    "slideshow": {
     "slide_type": "slide"
    }
   },
   "source": [
    "# Trabajos en primer y segundo plano"
   ]
  },
  {
   "cell_type": "markdown",
   "metadata": {},
   "source": [
    "* Cuando un programa tardará mucho en ejecutarse, quizás te guste lanzarlo en *segundo plano*. Para ello basta añadir el carácter `&`\n",
    "\n",
    "* Así, puedes seguir usando la línea de comando de Unix, mientras ese programa se sigue ejecutando.\n",
    "\n",
    "* Por ejemplo, supongamos que *fortrancode.exe* es un programa ejectutable en tu directorio actual que va a trabajar durante mucho tiempo. Puedes teclear:\n",
    "\n",
    "```\n",
    "$ ./fortrancode.exe &\n",
    "```\n",
    "* Ahora podrás volver al prompt de Unix y continuar trabajando.\n",
    "* Los caracteres `./' antes del comando indica que el programa ejecutable está en el directorio actual (`.`)\n",
    "*"
   ]
  },
  {
   "cell_type": "markdown",
   "metadata": {
    "slideshow": {
     "slide_type": "slide"
    }
   },
   "source": [
    "* Al ejecutarse el programa anterior, aparecerá en consola una expresión\n",
    "de la forma \"\\[1\\] 15442\".\n",
    "\n",
    "* Significa que:\n",
    "    * Es el trabajo número 1 lanzado por esta shell y que\n",
    "    * Ese proceso lanzado tiene el identificador 15442\n",
    "    \n",
    "* Para listar los trabajos que se están ejecutando en la shell existe la orden **jobs**. Con la opción `-l` se pueden ver los identificadores de los procesos\n",
    "```\n",
    "$ jobs -l\n",
    "```"
   ]
  },
  {
   "cell_type": "markdown",
   "metadata": {
    "slideshow": {
     "slide_type": "slide"
    }
   },
   "source": [
    "El último trabajo lanzado se puede traer de vuelta al primer plano con la orden **fg** (*foreground*):\n",
    "\n",
    "```\n",
    "$ fg\n",
    "```\n",
    "\n",
    "O equivalentemente:\n",
    "\n",
    "```\n",
    "$ fg %1\n",
    "```\n",
    "De forma similar, %2, %3, etc. (en caso de que haya varios trabajos ejecutándose en la shell)"
   ]
  },
  {
   "cell_type": "markdown",
   "metadata": {
    "slideshow": {
     "slide_type": "slide"
    }
   },
   "source": [
    "* Si un trabajo se está ejecutando en primer plano, se puede pausar con `Control-Z`. De esta forma, se volverá a controlar el *prompt*:\n",
    "\n",
    "* En el ejemplo anterior, el resultado será similar a:\n",
    "\n",
    "```\n",
    "^Z\n",
    "[1]+  Stopped  ./fortrancode.exe\n",
    "$ \n",
    "```\n",
    "\n",
    "* El trabajo queda parado. Se puede mandar al primer plano con *fg*. \n",
    "* Pero también se puede utilizar la orden **bg** (*background*). Ésta sirve para mandar un proceso, directamente, al segundo plano.\n",
    "\n",
    "```\n",
    "$ bg\n",
    "[1]  + 42013 continued  ./fortrancode.exe\n",
    "$\n",
    "```\n"
   ]
  },
  {
   "cell_type": "markdown",
   "metadata": {
    "slideshow": {
     "slide_type": "slide"
    }
   },
   "source": [
    "# Bash scripts"
   ]
  },
  {
   "cell_type": "markdown",
   "metadata": {
    "slideshow": {
     "slide_type": "slide"
    }
   },
   "source": [
    "* Además de una *shell* Unix, Bash se puede entender como un programa que \n",
    "interpreta un lenguaje de ordenador\n",
    "* Los *scripts* de Bash son programas compuestos por secuencias de órdenes que\n",
    "serán interpretadas por Bash\n",
    "* Estos programas son ficheros de texto ejecutables cuya primera línea es como sigue:\n",
    "```\n",
    "#!/bin/bash\n",
    "```\n",
    "* Esta línea indica a la shell la ruta exacta del programa (`/bin/bash`) que interpretará y ejecutará el resto de las líneas\n",
    "* En el resto del script, el carácter `#` se utilizará para comentarios:\n",
    "```\n",
    "#!/bin/bash\n",
    "# A continuación escribiré mi primer script bash\n",
    "```"
   ]
  },
  {
   "cell_type": "markdown",
   "metadata": {
    "slideshow": {
     "slide_type": "slide"
    }
   },
   "source": [
    "# Un script muy sencillo\n",
    "\n",
    "El siguiente script, que utiliza las órdenes **echo** y **read**, es muy fácil de entender. El carácter `$`, en la última línea, se usa para obtener el valor de la variable `nombre`.\n",
    "\n",
    "```\n",
    "#!/bin/bash\n",
    "# A continuación escribiré mi primer script bash\n",
    "\n",
    "echo \"Por favor, introduce tu nombre: \"\n",
    "read nombre\n",
    "echo \"Encantado de conocerte, $nombre\"    \n",
    "```\n",
    "\n",
    "La orden **chmod** (*change mode*, usada más abajo) se puede usar para dar al fichero permiso de ejecución. Para ejecutarlo:\n",
    "\n",
    "1. Escribirlo en un fichero llamado, por ejemplo, `miscript.sh`\n",
    "2. Conceder al fichero modo `a+x`: para todos los usuarios (`a`ll), permiso de lectura (`+x`)\n",
    "```\n",
    "chmod a+x miscript.sh\n",
    "```\n",
    "3. Ejecutarlo\n",
    "```\n",
    "./myscript.sh\n",
    "```"
   ]
  },
  {
   "cell_type": "markdown",
   "metadata": {
    "slideshow": {
     "slide_type": "notes"
    }
   },
   "source": [
    "# Nota\n",
    "\n",
    "- Este cuaderno (*notebook*) ha sido diseñado como una serie de transparencias (*slides*) para el curso Software en Matemáticas\n",
    "- Se puede visualizar utilizando la orden\n",
    "> jupyter nbconvert *.ipynb --to slides --post serve\n",
    "- También (incluso en un **servidor remoto**) el menú: **File**-> **Download As**->**Slides**  (abriendo directamente el html con un navegador web)."
   ]
  }
 ],
 "metadata": {
  "celltoolbar": "Slideshow",
  "kernelspec": {
   "display_name": "Python 3",
   "language": "python",
   "name": "python3"
  },
  "language_info": {
   "codemirror_mode": {
    "name": "ipython",
    "version": 3
   },
   "file_extension": ".py",
   "mimetype": "text/x-python",
   "name": "python",
   "nbconvert_exporter": "python",
   "pygments_lexer": "ipython3",
   "version": "3.8.5"
  }
 },
 "nbformat": 4,
 "nbformat_minor": 2
}
