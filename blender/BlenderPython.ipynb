{
 "cells": [
  {
   "cell_type": "code",
   "execution_count": 27,
   "metadata": {},
   "outputs": [
    {
     "name": "stdout",
     "output_type": "stream",
     "text": [
      "Running command: ['blender', '--python', '/home/rrgalvan/src/blender/plot_mesh.py']\n"
     ]
    },
    {
     "data": {
      "text/plain": [
       "CompletedProcess(args=['blender', '--python', '/home/rrgalvan/src/blender/plot_mesh.py'], returncode=0)"
      ]
     },
     "execution_count": 27,
     "metadata": {},
     "output_type": "execute_result"
    }
   ],
   "source": [
    "import os,subprocess\n",
    "\n",
    "python_file = \"plot_mesh.py\"\n",
    "python_file = os.getcwd() + \"/\" + python_file\n",
    "blender_args = [\"blender\", \"--python\", python_file]\n",
    "print(f\"Running command: {blender_args}\")\n",
    "\n",
    "subprocess.run(blender_args)"
   ]
  },
  {
   "cell_type": "code",
   "execution_count": 19,
   "metadata": {},
   "outputs": [
    {
     "data": {
      "text/plain": [
       "'/home/rrgalvan/src/blender'"
      ]
     },
     "execution_count": 19,
     "metadata": {},
     "output_type": "execute_result"
    }
   ],
   "source": [
    "os.getcwd()"
   ]
  },
  {
   "cell_type": "code",
   "execution_count": null,
   "metadata": {},
   "outputs": [],
   "source": []
  }
 ],
 "metadata": {
  "kernelspec": {
   "display_name": "Python 3",
   "language": "python",
   "name": "python3"
  },
  "language_info": {
   "codemirror_mode": {
    "name": "ipython",
    "version": 3
   },
   "file_extension": ".py",
   "mimetype": "text/x-python",
   "name": "python",
   "nbconvert_exporter": "python",
   "pygments_lexer": "ipython3",
   "version": "3.6.8"
  }
 },
 "nbformat": 4,
 "nbformat_minor": 2
}
