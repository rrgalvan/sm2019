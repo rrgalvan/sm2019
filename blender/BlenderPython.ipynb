{
 "cells": [
  {
   "cell_type": "markdown",
   "metadata": {},
   "source": [
    "# Blender\n",
    "\n",
    "Según [Wikipedia](https://es.wikipedia.org/wiki/Blender), \n",
    "*Blender es un programa informático multi plataforma, \n",
    "dedicado especialmente al modelado, iluminación, renderizado, animación y \n",
    "creación de gráficos tridimensionales*.\n",
    "\n",
    "![Blender](https://upload.wikimedia.org/wikipedia/commons/thumb/3/3c/Logo_Blender.svg/320px-Logo_Blender.svg.png)\n",
    "\n",
    "Blender tiene **licencia libre** y puede ser utilizado para desarrolar [animación 3D con características profesionales](https://www.blender.org/download/demo-files/)\n",
    "\n",
    "En nuestro caso, resulta de interés debido a que\n",
    "- utiliza a **Python** como lenguaje de *scripting*. Esto significa que se puede acceder a toda la potencia\n",
    "- posibilita la elaboración de material docente y de divulgación, de gran calidad, en torno a las **matemáticas**"
   ]
  },
  {
   "cell_type": "markdown",
   "metadata": {},
   "source": [
    "## Bibliografía\n",
    "\n",
    "1. Conlan, Chris. The Blender Python API: Precision 3D Modeling and Add-on Development.\n",
    "    Apress, Springer Science+Business Media, 2017.\n",
    "2. [Blender Python API Documentation](https://docs.blender.org/api/current/)\n",
    "3. [github.com/njanakiev/blender-scripting](https://github.com/njanakiev/blender-scripting)"
   ]
  },
  {
   "cell_type": "markdown",
   "metadata": {},
   "source": [
    "## Blender y Python\n",
    "\n",
    "Según se puede ver en https://docs.blender.org/api/current/info_quickstart.html Blender  está completamente integrado con Python:\n",
    "\n",
    "* Blender usa **Python 3.x**\n",
    "\n",
    "* Blender cuenta con una **consola** interna de Python y también con un **editor** especializado. \n",
    "\n",
    "    * A ellos se accede mediante el **menú** ***Scripting***, accesible desde el botón *Screen Layout*, (*Default*, en principio) situado en la *parte superior de la pantalla*.\n",
    "\n",
    "* Python accede a los datos de Blender de la misma forma que la interfaz gráfic de usuario. \n",
    "    * Así, **cualquier característica** que puede ser modificada usando un botón, también puede ser **modificada desde Python**.\n",
    "\n",
    "* Cuando se posiciona el **ratón sobre un botón**, Blender muestra **información** sobre los respectivos nombres de los operadores y atributos de Python asociados\n",
    "\n",
    "\n"
   ]
  },
  {
   "cell_type": "markdown",
   "metadata": {},
   "source": [
    "## El módulo _bpy_\n",
    "\n",
    "- Selección y activación\n",
    "- Creación y borrado\n",
    "- Escenas\n",
    "- Abstracción"
   ]
  },
  {
   "cell_type": "markdown",
   "metadata": {},
   "source": [
    "## Acceso a datos (`bpy.data`)\n",
    "\n",
    "El acceso a los datos se realiza mediante el módulo `bpy.data`. Por ejemplo, este módulo contiene los siguientes objetos (que son de tipo *collection*, en concreto de tipo `bpy_prop_collection`):\n",
    "* `bpy.data.objects`\n",
    "* `bpy.data.scenes`\n",
    "* `bpy.data.materials`\n",
    "\n",
    "Se puede acceder a los objetos de tipo *collection* de dos formas diferentes:\n",
    "\n",
    "* Creando una **lista** de objetos de la colección, por ejemplo:\n",
    "```python\n",
    ">>> lista_objetos = list(bpy.data.objects)\n",
    ">>> lista_objetos\n",
    "[bpy.data.objects[\"Cube\"], bpy.data.objects[\"Plane\"]]\n",
    ">>> lista_objetos[0]\n",
    "bpy.data.objects['Cube']\n",
    "```\n",
    "* Tratando a la colección como un **diccionario**, por ejemplo:\n",
    "```python\n",
    "    >>> objetos = bpy.data.objects\n",
    ">>> objetos['Cube']\n",
    "bpy.data.objects['Cube']\n",
    "``` "
   ]
  },
  {
   "cell_type": "markdown",
   "metadata": {},
   "source": [
    "#### Ejercicio:\n",
    "Abrir Blender y, acceder a la consola Python. Investigar cuáles son los objetos disponibles. \n",
    "Acceder a ellos \n",
    "* a través de una lista y \n",
    "* como diccionario"
   ]
  },
  {
   "cell_type": "markdown",
   "metadata": {},
   "source": [
    "### Atributos\n",
    "En general, los objetos tienen atributos (datos) y métodos (funciones). Por ejemplo, los objetos suelen tener los atributos `name`, nombre, y `location`, posición en el espacio, x,y,z (nota, si existen transformaciones pendientes, esta localización podría variar):\n",
    "```python\n",
    "for o in list(bpy.data.objects):\n",
    "    print(o.name)\n",
    "   \n",
    "Camera\n",
    "Cube\n",
    "Lamp\n",
    "```\n",
    "\n",
    "#### Ejercicio:\n",
    "Desde la consola de Blender, listar la posición de todos los objetos disponibles"
   ]
  },
  {
   "cell_type": "markdown",
   "metadata": {},
   "source": [
    "### Selección y activación de objetos\n",
    "\n",
    "* La interfaz de Blender se diseñó para ser muy *intitiva* y a la vez \n",
    "permitir una funcionalidad *compleja*.\n",
    "* Algunas operaciones actuan sobre *un único objeto* y otras pueden actuar sobre \n",
    "*muchos objetos* a la vez\n",
    "\n",
    "Para ello, existen básicamente **dos formas de trabajar con objetos**:\n",
    "* **Selección**: Las operaciones se realizan sobre uno o más objetos que han sido *previamente seleccionados*\n",
    "* **Activación**: En todo momento, existe un único objeto que está activo. Algunas operaciones actúan *solamente sobre el objeto activo*\n",
    "\n",
    "Además, la interfaz Python de Blender permite acceder directamente a los objetos a través de su nombre. Esta forma de trabajar con objetos, específica de la interfaz Python, se conoce como **especificación**.\n",
    "\n"
   ]
  },
  {
   "cell_type": "markdown",
   "metadata": {},
   "source": [
    "### El contexto (`bpy.context`)\n",
    "\n",
    "* El submódulo `bpy.context` se usa para distintas actividades que dependen del área de Blender que esté activa. \n",
    "\n",
    "* Este submódulo se puede utilizar para acceder al **objeto activo**, utilizando el atributo `active_object` o, simplemente, `object`. Por ejemplo:\n",
    "```python\n",
    ">>> bpy.context.object\n",
    "bpy.data.objects['Cube']\n",
    "```\n",
    "\n",
    "* En particular, este submódulo permite acceder a los **objetos seleccionados**, utilizando la variable `selected_objects`. Por ejemplo:\n",
    "```python\n",
    ">>> bpy.context.selected_objects\n",
    "[bpy.data.objects['Cube'], bpy.data.objects['Camera']]\n",
    "```\n",
    "\n",
    "#### Ejemplo:\n",
    "Crear una lista que contenga el nombre de los objetos actualmente seleccionados\n",
    "```python\n",
    "[o.name for o in bpy.context.selected_objects]\n",
    "```\n",
    "\n",
    "#### Ejercicio:\n",
    "Crear una lista que contenga la posición de los objetos actualmente seleccionados"
   ]
  },
  {
   "cell_type": "markdown",
   "metadata": {},
   "source": [
    "### Uso del editor \n",
    "\n",
    "* Trabajar directamente de la consola puede ser útil sólo puntualmente\n",
    "* A través del menú *Scripting* de Blender se puede acceder al editor integrado\n",
    "* Para crear un nuevo *script* en Python, pulsamos el botón ***New***, situado en la parte inferior del editor\n",
    "* Para ejecutar el *script*, pulsamos el botón ***Run script***\n",
    "\n",
    "#### Nota 1: la salida por consola\n",
    "Ejecutamos el siguiente *script* desde el editor:\n",
    "```python\n",
    "import bpy\n",
    "print(bpy.context.object)\n",
    "```\n",
    "\n",
    "¿A dónde va la salida de *print^? Según [[1]](https://blender.stackexchange.com/questions/6173/where-does-console-output-go), la salida de print aparece en la consola estándar:\n",
    "* En sistemas **Windows**, se puede acceder a ella a través del menú  `Window > Toggle System Console` (desde el menú *Help*?).\n",
    "* En sistemas **Unix**, se debe ejecutar Blender desde la ***terminal***, que será la consola estándar\n",
    "\n",
    "#### Nota 2: salida de errores\n",
    "Si se comete un error de programación, la información aparecerá en la consola, a la que se puede acceder como se mencionó anteriormente.\n",
    "\n",
    "#### Ejercicio:\n",
    "Escribir el siguiente programa en el editor de texto. Observar el error en la consola y luego corregirlo\n",
    "```python\n",
    "import bpy\n",
    "print(bpy.context.objecto)\n",
    "```\n",
    "\n",
    "#### Nota 3: Otros editores\n",
    "\n",
    "* Aunque el editor de texto de blender no está mal, muchas personas están acostumbradas a usar otros editores, como *Emacs*, *Vim* o *Atom* (incluso *Jupyter*!), para escribir código Python.\n",
    "\n",
    "* Como se comenta en https://docs.blender.org/api/current/info_tips_and_tricks.html, \"*Editing a text file externally and having the same text open in Blender does work but isn’t that optimal so here are 2 ways you can easily use an external file from Blender*.\n",
    "\n",
    "* Y de todas las soluciones que se comentan en el enlace anterior, la que más me gusta: **no abrir Blender**. En lugar de ello, escribir el *script* suando el editor preferido y teclear en consola:\n",
    "```bash\n",
    "blender --background --python myscript.py\n",
    "```\n",
    "O, si se quiere ejecutar el *script* partiendo desde un fichero `.blend`:\n",
    "```bash\n",
    "blender myscene.blend --background --python myscript.py\n",
    "```"
   ]
  },
  {
   "cell_type": "markdown",
   "metadata": {},
   "source": [
    "### Seleccionar objetos:\n",
    "\n",
    "Para **seleccionar un objeto**, asignamos como `True` su atributo `.select`. Por ejemplo, el siguiente *script*\n",
    "```python\n",
    "camera = bpy.data.objects['Camera']\n",
    "camera.select = True\n",
    "print(\"Objetos seleccionados:\", bpy.context.selected_objects)\n",
    "```\n",
    "podría tener la siguiente salida (si el objeto 'Cube' hubiera sido previamente seleccionado):\n",
    "```sh\n",
    "[bpy.data.objects['Cube'], bpy.data.objects['Camera']]\n",
    "```\n",
    "\n",
    "Si deseamos asegurarnos de que hay un solo objeto seleccionado tendremos que deseleccionar previamente todos los objetos que estuvieran seleccionados. Para ello, usamos la función `select_all` con la opción `DESELECT` como sigue:\n",
    "```python\n",
    "py.ops.object.select_all(action='DESELECT')\n",
    "```\n",
    "Así, el *script*\n",
    "```python\n",
    "# 1. Deseleccionar todos los objetos\n",
    "py.ops.object.select_all(action='DESELECT')\n",
    "\n",
    "# 2. Seleccionar la cámara\n",
    "camera = bpy.data.objects['Camera']  \n",
    "camera.select = True\n",
    "\n",
    "print(\"Objetos seleccionados:\", bpy.context.selected_objects)\n",
    "```\n",
    "\n",
    "#### Ejemplo:\n",
    "Definir una función, `activar_objeto(nombre, exclusivo=True)` que active el objeto llamado `nombre`. Si la variable `exclusivo` tiene el valor `True`, éste será el único objeto seleccionado.\n",
    "\n",
    "Solución\n",
    "```python\n",
    "def seleccionar_objeto(nombre, exclusivo=True):\n",
    "    if(exclusivo):\n",
    "        py.ops.object.select_all(action='DESELECT')\n",
    "    o = bpy.data.objects[nombre]\n",
    "    o.select = True\n",
    "```"
   ]
  },
  {
   "cell_type": "markdown",
   "metadata": {},
   "source": [
    "### Activar objetos:\n",
    "\n",
    "Para **activar un objeto**, lo asignamos a `bpy.context.scene.objects.active`. Por ejemplo el script:\n",
    "```python\n",
    "camera = bpy.data.objects['Camera']\n",
    "bpy.context.scene.objects.active = camera\n",
    "print(\"Objeto activo:\", bpy.context.object)\n",
    "```\n",
    "tendrá como salida:\n",
    "```bash\n",
    "<bpy_struct, Object(\"Camera\")>\n",
    "```\n",
    "\n",
    "#### Ejermplo:\n",
    "Definir una función, `activar_objeto(nombre)` que active el objeto llamado `nombre`\n",
    "\n",
    "Solución\n",
    "```python\n",
    "def activar_objeto(nombre):\n",
    "    o = bpy.data.objects[nombre]\n",
    "    bpy.context.scene.objects.active = o\n",
    "```"
   ]
  },
  {
   "cell_type": "markdown",
   "metadata": {},
   "source": [
    "## Operadores (`bpy.ops`)\n",
    "\n",
    "* Los operadores son herramientas a que suelen estar asociadas a los *botones de la interfaz gráfica* de Blender (y que cuya descripción aparece al pasar el ratón sobre los mismos)\n",
    "\n",
    "* Estos operadores devuelven un ojeto de tipo *set*, sualmente:  {'FINISHED'} o {'CANCELLED'}\n",
    "    * Aunque en general, pueden devolver cualquier subfonjunto de de  {'RUNNING_MODAL', 'CANCELLED', 'FINISHED', 'PASS_THROUGH'}. \n",
    "\n",
    "* Especialmente interesante es el submódulo `bpy.ops.transform`, "
   ]
  },
  {
   "cell_type": "markdown",
   "metadata": {},
   "source": [
    "### Transformaciones (`bpy.ops.transform`)\n",
    "\n",
    "* Transformaciones geométricas sobre los objetos\n",
    "* Actúan sobre los **objetos seleccionados** (previamente, hay que seleccionarlos)\n",
    "* Se listan aquí algunas transformaciones básicas (ver\n",
    "https://docs.blender.org/api/current/bpy.ops.transform.html para un listado completo, incluyendo una descripción de todos los argumentos)\n",
    "* En lo que sigue, `v` es una tupla `(x,y,z)`, con $x,y,z\\in\\mathbb R$.\n",
    "Algunas transformaciones:\n",
    "* `bpy.ops.transform.translate(value=v)`\n",
    "* `bpy.ops.transform.resize(value=v)`"
   ]
  },
  {
   "cell_type": "code",
   "execution_count": 1,
   "metadata": {},
   "outputs": [
    {
     "ename": "ModuleNotFoundError",
     "evalue": "No module named 'bpy'",
     "output_type": "error",
     "traceback": [
      "\u001b[0;31m---------------------------------------------------------------------------\u001b[0m",
      "\u001b[0;31mModuleNotFoundError\u001b[0m                       Traceback (most recent call last)",
      "\u001b[0;32m<ipython-input-1-3b0a44bbcc0a>\u001b[0m in \u001b[0;36m<module>\u001b[0;34m\u001b[0m\n\u001b[0;32m----> 1\u001b[0;31m \u001b[0;32mimport\u001b[0m \u001b[0mbpy\u001b[0m\u001b[0;34m\u001b[0m\u001b[0;34m\u001b[0m\u001b[0m\n\u001b[0m",
      "\u001b[0;31mModuleNotFoundError\u001b[0m: No module named 'bpy'"
     ]
    }
   ],
   "source": [
    "import bpy"
   ]
  },
  {
   "cell_type": "code",
   "execution_count": null,
   "metadata": {},
   "outputs": [],
   "source": []
  }
 ],
 "metadata": {
  "kernelspec": {
   "display_name": "Python 3",
   "language": "python",
   "name": "python3"
  },
  "language_info": {
   "codemirror_mode": {
    "name": "ipython",
    "version": 3
   },
   "file_extension": ".py",
   "mimetype": "text/x-python",
   "name": "python",
   "nbconvert_exporter": "python",
   "pygments_lexer": "ipython3",
   "version": "3.6.8"
  }
 },
 "nbformat": 4,
 "nbformat_minor": 2
}
