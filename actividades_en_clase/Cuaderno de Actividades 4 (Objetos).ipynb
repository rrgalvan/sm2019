{
 "cells": [
  {
   "cell_type": "markdown",
   "metadata": {},
   "source": [
    "# Clase Tortuga"
   ]
  },
  {
   "cell_type": "code",
   "execution_count": 34,
   "metadata": {},
   "outputs": [],
   "source": [
    "import numpy as np\n",
    "import matplotlib.pyplot as plt\n",
    "\n",
    "pi = np.pi\n",
    "\n",
    "class TortugaSencilla(object):\n",
    "    \"\"\"Tipo de datos 'Tortuga'\"\"\"\n",
    "    \n",
    "    def __init__(self):\n",
    "        \"Constructor\"\n",
    "        self.P = np.array([0,0]) # Posición\n",
    "        self.d = np.array([0,1]) # Dirección\n",
    "        \n",
    "    def info(self):\n",
    "        \"Muestra información sobre el objeto actual\"\n",
    "        print(f\"P={self.P}, d={self.d}\")\n",
    "        \n",
    "    def adelante(self, cantidad):\n",
    "        \"Mover adelante la tortuga\"\n",
    "        self.P = self.P + cantidad*self.d\n",
    "    \n",
    "    def izquierda(self, radianes):\n",
    "        \"Girar a la izquierda (en sentido positivo)\"\n",
    "        matriz = np.array( [\n",
    "            [np.cos(radianes), -np.sin(radianes)],\n",
    "            [np.sin(radianes),  np.cos(radianes)] \n",
    "        ] )\n",
    "        self.d = np.dot( matriz, self.d )\n",
    "        \n",
    "    def derecha(self, radianes):\n",
    "        \"Girar a la derecha (en sentido negativo)\"\n",
    "        self.izquierda(-radianes)"
   ]
  },
  {
   "cell_type": "code",
   "execution_count": 29,
   "metadata": {},
   "outputs": [
    {
     "name": "stdout",
     "output_type": "stream",
     "text": [
      "P=[0 0], d=[0 1]\n",
      "P=[ 0 20], d=[0 1]\n",
      "P=[ 0 20], d=[  1.00000000e+00   6.12323400e-17]\n",
      "P=[ 0 20], d=[ 0.  1.]\n"
     ]
    }
   ],
   "source": [
    "mi_tortuga = TortugaSencilla()\n",
    "mi_tortuga.info()\n",
    "\n",
    "mi_tortuga.adelante(20)\n",
    "mi_tortuga.info()\n",
    "\n",
    "mi_tortuga.derecha(pi/2)\n",
    "mi_tortuga.info()\n",
    "\n",
    "mi_tortuga.izquierda(pi/2)\n",
    "mi_tortuga.info()"
   ]
  },
  {
   "cell_type": "markdown",
   "metadata": {},
   "source": [
    "## Tortuga que deja rastro de su ruta"
   ]
  },
  {
   "cell_type": "code",
   "execution_count": 78,
   "metadata": {},
   "outputs": [],
   "source": [
    "class Tortuga(TortugaSencilla):\n",
    "    def __init__(self, color=\"green\"):\n",
    "        TortugaSencilla.__init__(self)\n",
    "        self.color = color\n",
    "        self.ruta = [self.P] # Ruta de puntos por los que ha pasado la tortuga\n",
    "        \n",
    "    def adelante(self, cantidad):\n",
    "        TortugaSencilla.adelante(self, cantidad)\n",
    "        self.ruta.append(self.P)\n",
    "        \n",
    "    def dibujar(self):\n",
    "        x = np.array(  [ punto[0] for punto in self.ruta ]  )\n",
    "        y = np.array(  [ punto[1] for punto in self.ruta ]  )\n",
    "        plt.plot(x, y, self.color)"
   ]
  },
  {
   "cell_type": "code",
   "execution_count": 82,
   "metadata": {},
   "outputs": [
    {
     "data": {
      "image/png": "[encoded data removed]",
      "text/plain": [
       "<matplotlib.figure.Figure at 0x7fd41c7c3f28>"
      ]
     },
     "metadata": {
      "needs_background": "light"
     },
     "output_type": "display_data"
    }
   ],
   "source": [
    "colores = [\"red\", \"green\", \"blue\", \"pink\", \"orange\", \"black\"]\n",
    "lista_tortugas = [ Tortuga(colores[i]) for i in range(6) ]\n",
    "\n",
    "for tortu in lista_tortugas:\n",
    "    for i in range(5):\n",
    "        tortu.derecha( 2*pi*np.random.rand() )\n",
    "        tortu.adelante(10)\n",
    "    tortu.dibujar()"
   ]
  },
  {
   "cell_type": "code",
   "execution_count": null,
   "metadata": {},
   "outputs": [],
   "source": []
  }
 ],
 "metadata": {
  "kernelspec": {
   "display_name": "Python 3",
   "language": "python",
   "name": "python3"
  },
  "language_info": {
   "codemirror_mode": {
    "name": "ipython",
    "version": 3
   },
   "file_extension": ".py",
   "mimetype": "text/x-python",
   "name": "python",
   "nbconvert_exporter": "python",
   "pygments_lexer": "ipython3",
   "version": "3.6.8"
  }
 },
 "nbformat": 4,
 "nbformat_minor": 2
}
