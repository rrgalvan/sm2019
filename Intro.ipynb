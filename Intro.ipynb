{
 "cells": [
  {
   "cell_type": "markdown",
   "metadata": {
    "slideshow": {
     "slide_type": "slide"
    }
   },
   "source": [
    "# Software en Matermáticas\n",
    "\n",
    "*Máster Universitario en Matemáticas, Cádiz, 2019/2020*\n",
    "\n",
    "## Estructura del curso:\n",
    "* MÓDULO 1: **Python**\n",
    "* MÓDULO 2: **Mathematica** y **Octave**\n",
    "* MÓDULO 3: **Maxima**\n",
    "\n",
    "[Guía docente](http://masteres.ugr.es/doctomat/pages/info_academica/guias_docentes/201920/sm/%21)\n",
    "\n"
   ]
  },
  {
   "cell_type": "markdown",
   "metadata": {
    "slideshow": {
     "slide_type": "slide"
    }
   },
   "source": [
    "# Módulo 1: Python\n",
    "\n",
    "* *Tema 1*: Introducción a la shell UNIX\n",
    "* *Tema 2*: Primeros pasos con Python\n",
    "* *Tema 3*: Bibliotecas matemáticas y científicas en Python\n",
    "* *Tema 4*: Conceptos avanzados: programación orientada a objetos,\n",
    "    cálculo de alto rendimiento...\n",
    "* *Tema 5*: Recapitulación y proyectos finales"
   ]
  },
  {
   "cell_type": "code",
   "execution_count": null,
   "metadata": {},
   "outputs": [],
   "source": []
  }
 ],
 "metadata": {
  "celltoolbar": "Slideshow",
  "kernelspec": {
   "display_name": "Python 3",
   "language": "python",
   "name": "python3"
  },
  "language_info": {
   "codemirror_mode": {
    "name": "ipython",
    "version": 3
   },
   "file_extension": ".py",
   "mimetype": "text/x-python",
   "name": "python",
   "nbconvert_exporter": "python",
   "pygments_lexer": "ipython3",
   "version": "3.6.8"
  }
 },
 "nbformat": 4,
 "nbformat_minor": 2
}
