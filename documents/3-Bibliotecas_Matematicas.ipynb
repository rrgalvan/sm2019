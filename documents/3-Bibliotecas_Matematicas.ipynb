{
 "cells": [
  {
   "cell_type": "markdown",
   "metadata": {},
   "source": [
    "# Tema 3.  Bibliotecas matemáticas y científicas en Python"
   ]
  },
  {
   "cell_type": "markdown",
   "metadata": {},
   "source": [
    "1. Cálculo numérico: *numpy* + *scipy* + *matplotlib*\n",
    "    * [Numpy: vectores y matrices (\"arreglos\")](https://nbviewer.jupyter.org/github/rrgalvan/clases-python-cientifico/blob/master/Lecture-2-Numpy.ipynb)\n",
    "    * [Scipy: bilioteca científica](https://nbviewer.jupyter.org/github/rrgalvan/clases-python-cientifico/blob/master/Lecture-3-Scipy.ipynb)\n",
    "    * [Matplotlib: gráficos 2D y 3D](https://nbviewer.jupyter.org/github/rrgalvan/clases-python-cientifico/blob/master/Lecture-4-Matplotlib.ipynb)\n",
    "2. [Cálculo símbólico: *sympy* (y *sage*)](https://nbviewer.jupyter.org/github/rrgalvan/clases-python-cientifico/blob/master/Lecture-5-Sympy.ipynb)\n",
    "3. Análisis de datos: *pandas*"
   ]
  },
  {
   "cell_type": "code",
   "execution_count": null,
   "metadata": {},
   "outputs": [],
   "source": []
  }
 ],
 "metadata": {
  "kernelspec": {
   "display_name": "Python 3",
   "language": "python",
   "name": "python3"
  },
  "language_info": {
   "codemirror_mode": {
    "name": "ipython",
    "version": 3
   },
   "file_extension": ".py",
   "mimetype": "text/x-python",
   "name": "python",
   "nbconvert_exporter": "python",
   "pygments_lexer": "ipython3",
   "version": "3.6.8"
  }
 },
 "nbformat": 4,
 "nbformat_minor": 2
}
