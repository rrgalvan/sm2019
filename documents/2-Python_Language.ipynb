{
 "cells": [
  {
   "cell_type": "markdown",
   "metadata": {},
   "source": [
    "# Tema 2. Primeros pasos e introducción al lenguaje Python"
   ]
  },
  {
   "cell_type": "markdown",
   "metadata": {},
   "source": [
    "1. [Python: introduction and installation](https://nbviewer.jupyter.org/github/rrgalvan/IntroPythonMasterMatemat/blob/master/00-Introduction.ipynb)\n",
    "2. [How to run python code](https://nbviewer.jupyter.org/github/rrgalvan/IntroPythonMasterMatemat/blob/master/01-How-to-Run-Python-Code.ipynb)\n",
    "3. [Language Syntax](https://nbviewer.jupyter.org/github/rrgalvan/IntroPythonMasterMatemat/blob/master/02-Basic-Python-Syntax.ipynb)\n",
    "4. [Variables](https://nbviewer.jupyter.org/github/rrgalvan/IntroPythonMasterMatemat/blob/master/03-Semantics-Variables.ipynb)\n",
    "5. [Built-In Types](https://nbviewer.jupyter.org/github/rrgalvan/IntroPythonMasterMatemat/blob/master/05-Built-in-Scalar-Types.ipynb)\n",
    "6. [Data structures](https://nbviewer.jupyter.org/github/rrgalvan/IntroPythonMasterMatemat/blob/master/06-Built-in-Data-Structures.ipynb)\n",
    "7. [Control flow](https://nbviewer.jupyter.org/github/rrgalvan/IntroPythonMasterMatemat/blob/master/07-Control-Flow-Statements.ipynb)\n",
    "8. [Functions](https://nbviewer.jupyter.org/github/rrgalvan/IntroPythonMasterMatemat/blob/master/08-Defining-Functions.ipynb)"
   ]
  },
  {
   "cell_type": "code",
   "execution_count": null,
   "metadata": {},
   "outputs": [],
   "source": []
  }
 ],
 "metadata": {
  "kernelspec": {
   "display_name": "Python 3",
   "language": "python",
   "name": "python3"
  },
  "language_info": {
   "codemirror_mode": {
    "name": "ipython",
    "version": 3
   },
   "file_extension": ".py",
   "mimetype": "text/x-python",
   "name": "python",
   "nbconvert_exporter": "python",
   "pygments_lexer": "ipython3",
   "version": "3.6.8"
  }
 },
 "nbformat": 4,
 "nbformat_minor": 2
}
