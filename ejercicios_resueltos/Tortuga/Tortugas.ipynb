{
 "cells": [
  {
   "cell_type": "code",
   "execution_count": 1,
   "metadata": {},
   "outputs": [],
   "source": [
    "# Automaticic loading of modules\n",
    "%load_ext autoreload\n",
    "%autoreload 2"
   ]
  },
  {
   "cell_type": "code",
   "execution_count": 2,
   "metadata": {},
   "outputs": [],
   "source": [
    "import numpy as np\n",
    "from numpy import pi\n",
    "import matplotlib.pylab as plt\n",
    "from tortuga import TortugaBasica, TortugaConMemoria"
   ]
  },
  {
   "cell_type": "code",
   "execution_count": 3,
   "metadata": {},
   "outputs": [
    {
     "name": "stdout",
     "output_type": "stream",
     "text": [
      "Tortuga: P=[0. 0.], v=[0. 1.], p_a=1\n",
      "Tortuga: P=[0. 5.], v=[0. 1.], p_a=1\n",
      "Tortuga: P=[0. 5.], v=[1.000000e+00 6.123234e-17], p_a=1\n"
     ]
    }
   ],
   "source": [
    "casiopea = TortugaBasica(posicion=[0,0], orientacion=[0,1])\n",
    "print(casiopea)\n",
    "casiopea.avanza(5)\n",
    "print(casiopea)\n",
    "casiopea.derecha(pi/2)\n",
    "print(casiopea)"
   ]
  },
  {
   "cell_type": "code",
   "execution_count": 4,
   "metadata": {},
   "outputs": [
    {
     "name": "stdout",
     "output_type": "stream",
     "text": [
      "[1.000000e+00 6.123234e-17]\n",
      "[1.000000e+00 6.123234e-17]\n"
     ]
    }
   ],
   "source": [
    "orientacion_original = casiopea.orientacion\n",
    "print(orientacion_original)\n",
    "casiopea.derecha(pi)\n",
    "casiopea.izquierda(pi)\n",
    "print(casiopea.orientacion)"
   ]
  },
  {
   "cell_type": "code",
   "execution_count": 5,
   "metadata": {},
   "outputs": [
    {
     "data": {
      "text/plain": [
       "[1, 3, 5, 7, 9]"
      ]
     },
     "execution_count": 5,
     "metadata": {},
     "output_type": "execute_result"
    }
   ],
   "source": [
    "# Lista de impares mediante un bucle\n",
    "impares = []\n",
    "for i in range(5): # i= 0 1  2 3 4\n",
    "    impares.append(2*i+1)\n",
    "impares"
   ]
  },
  {
   "cell_type": "markdown",
   "metadata": {},
   "source": [
    "# Listas comprehensivas\n",
    "5 primeros impares:\n",
    "$$\n",
    "\\{ 2i+1 \\ / \\ i=0,\\dots,4 \\}\n",
    "$$\n",
    "Definición comprehensiva del conjunto"
   ]
  },
  {
   "cell_type": "code",
   "execution_count": 6,
   "metadata": {},
   "outputs": [
    {
     "data": {
      "text/plain": [
       "[1, 5, 7, 9]"
      ]
     },
     "execution_count": 6,
     "metadata": {},
     "output_type": "execute_result"
    }
   ],
   "source": [
    "impares = [ 2*i+1 for i in range(5) if i!=1 ]\n",
    "impares"
   ]
  },
  {
   "cell_type": "code",
   "execution_count": 7,
   "metadata": {},
   "outputs": [
    {
     "name": "stdout",
     "output_type": "stream",
     "text": [
      "Tortuga: P=[0. 0.], v=[0. 1.], p_a=1\n",
      "Tortuga: P=[ 0. 10.], v=[0. 1.], p_a=1\n",
      "Tortuga: P=[ 0. 20.], v=[0. 1.], p_a=1\n",
      "Tortuga: P=[ 0. 30.], v=[0. 1.], p_a=1\n",
      "Tortuga: P=[ 0. 40.], v=[0. 1.], p_a=1\n"
     ]
    }
   ],
   "source": [
    "tortugas = [ TortugaBasica(posicion=[0, 10*i]) for i in range(5) ]\n",
    "for t in tortugas:\n",
    "    print(t)"
   ]
  },
  {
   "cell_type": "code",
   "execution_count": 8,
   "metadata": {},
   "outputs": [
    {
     "name": "stdout",
     "output_type": "stream",
     "text": [
      "Tortuga: P=[0. 0.], v=[0. 1.], p_a=1\n",
      "[array([0., 0.])]\n",
      "Tortuga: P=[ 0. 20.], v=[0. 1.], p_a=1\n",
      "[array([0., 0.]), array([ 0., 20.])]\n"
     ]
    }
   ],
   "source": [
    "t = TortugaConMemoria()\n",
    "print(t)\n",
    "print(t.ruta)\n",
    "\n",
    "t.avanza(20)\n",
    "print(t)\n",
    "print(t.ruta)"
   ]
  },
  {
   "cell_type": "code",
   "execution_count": 9,
   "metadata": {},
   "outputs": [
    {
     "data": {
      "text/plain": [
       "[<matplotlib.lines.Line2D at 0x7f6fd91a0280>]"
      ]
     },
     "execution_count": 9,
     "metadata": {},
     "output_type": "execute_result"
    },
    {
     "data": {
      "image/png": "[encoded data removed]",
      "text/plain": [
       "<Figure size 432x288 with 1 Axes>"
      ]
     },
     "metadata": {
      "needs_background": "light"
     },
     "output_type": "display_data"
    }
   ],
   "source": [
    "x = [ p[0] for p in t.ruta ]\n",
    "y = [ p[1] for p in t.ruta ]\n",
    "plt.plot(x, y)"
   ]
  },
  {
   "cell_type": "code",
   "execution_count": 10,
   "metadata": {},
   "outputs": [
    {
     "data": {
      "image/png": "[encoded data removed]",
      "text/plain": [
       "<Figure size 432x288 with 1 Axes>"
      ]
     },
     "metadata": {
      "needs_background": "light"
     },
     "output_type": "display_data"
    }
   ],
   "source": [
    "t.plot()"
   ]
  },
  {
   "cell_type": "code",
   "execution_count": 11,
   "metadata": {},
   "outputs": [
    {
     "name": "stdout",
     "output_type": "stream",
     "text": [
      "Tortuga: P=[0. 0.], v=[0. 1.], p_a=1\n",
      "Tortuga: P=[ 0. 10.], v=[1.000000e+00 6.123234e-17], p_a=1\n",
      "Tortuga: P=[10. 10.], v=[ 1.2246468e-16 -1.0000000e+00], p_a=1\n",
      "Tortuga: P=[10.  0.], v=[-1.0000000e+00 -1.8369702e-16], p_a=1\n",
      "Tortuga: P=[ 1.77635684e-15 -1.83697020e-15], v=[-2.4492936e-16  1.0000000e+00], p_a=1\n",
      "[array([0., 0.])]\n"
     ]
    },
    {
     "data": {
      "image/png": "[encoded data removed]",
      "text/plain": [
       "<Figure size 432x288 with 1 Axes>"
      ]
     },
     "metadata": {
      "needs_background": "light"
     },
     "output_type": "display_data"
    }
   ],
   "source": [
    "def cuadrado(tortuga, lado):\n",
    "    \"\"\"Dibuja un cuadrado de un lado determinado\"\"\"\n",
    "    for i in range(4):\n",
    "        tortuga.avanza(lado)\n",
    "        tortuga.derecha(pi/2)\n",
    "        \n",
    "t = TortugaConMemoria(color=\"red\")\n",
    "print(t)\n",
    "for i in range(4):\n",
    "    t.avanza(10)\n",
    "    t.derecha(pi/2)\n",
    "    print(t)\n",
    "t.plot()\n",
    "t.reiniciar()\n",
    "print(t.ruta)\n",
    "\n",
    "t.color = \"green\"\n",
    "cuadrado(t, lado=100)\n",
    "t.plot()"
   ]
  },
  {
   "cell_type": "code",
   "execution_count": 12,
   "metadata": {},
   "outputs": [
    {
     "name": "stdout",
     "output_type": "stream",
     "text": [
      "Tortuga: P=[0. 0.], v=[0. 1.], p_a=1\n",
      "Tortuga: P=[0. 0.], v=[1.000000e+00 6.123234e-17], p_a=1\n"
     ]
    }
   ],
   "source": [
    "t = TortugaConMemoria(orientacion=[0,1])\n",
    "print(t)\n",
    "t.derecha(pi/2)\n",
    "print(t)"
   ]
  },
  {
   "cell_type": "code",
   "execution_count": 13,
   "metadata": {},
   "outputs": [
    {
     "data": {
      "image/png": "[encoded data removed]",
      "text/plain": [
       "<Figure size 432x288 with 1 Axes>"
      ]
     },
     "metadata": {
      "needs_background": "light"
     },
     "output_type": "display_data"
    }
   ],
   "source": [
    "def espirolateral(tortuga, longitud, angulo, nivel_maximo, nivel=1):\n",
    "    if nivel <= nivel_maximo:\n",
    "        tortuga.avanza(longitud)\n",
    "        tortuga.derecha(angulo)\n",
    "        espirolateral(tortuga, nivel*longitud, angulo, \n",
    "                      nivel_maximo, nivel+1)\n",
    "        \n",
    "t = TortugaConMemoria(color=\"blue\")\n",
    "for i in range(20):\n",
    "    espirolateral(t, 10, 4*pi/5, nivel_maximo=4)\n",
    "t.plot()"
   ]
  },
  {
   "cell_type": "code",
   "execution_count": 14,
   "metadata": {},
   "outputs": [
    {
     "data": {
      "image/png": "[encoded data removed]",
      "text/plain": [
       "<Figure size 432x288 with 1 Axes>"
      ]
     },
     "metadata": {
      "needs_background": "light"
     },
     "output_type": "display_data"
    }
   ],
   "source": [
    "t = TortugaConMemoria(orientacion=[1,0], color=\"blue\")\n",
    "def dibujar_lado_copo(tortuga, lado, nivel):\n",
    "    if nivel==0:\n",
    "        tortuga.avanza(lado)\n",
    "    else:\n",
    "        dibujar_lado_copo(tortuga, lado/3, nivel-1)\n",
    "        tortuga.izquierda(pi/3)\n",
    "        dibujar_lado_copo(tortuga, lado/3, nivel-1)\n",
    "        tortuga.derecha(2*pi/3)\n",
    "        dibujar_lado_copo(tortuga, lado/3, nivel-1)\n",
    "        tortuga.izquierda(pi/3)\n",
    "        dibujar_lado_copo(tortuga, lado/3, nivel-1)\n",
    "\n",
    "        \n",
    "\n",
    "for i in range(3):\n",
    "    dibujar_lado_copo(t, 10, nivel=5)\n",
    "    t.derecha(2*pi/3)\n",
    "t.plot()\n"
   ]
  },
  {
   "cell_type": "code",
   "execution_count": 15,
   "metadata": {},
   "outputs": [
    {
     "data": {
      "text/plain": [
       "<Figure size 432x288 with 0 Axes>"
      ]
     },
     "execution_count": 15,
     "metadata": {},
     "output_type": "execute_result"
    },
    {
     "data": {
      "text/plain": [
       "<Figure size 432x288 with 0 Axes>"
      ]
     },
     "metadata": {},
     "output_type": "display_data"
    }
   ],
   "source": [
    "plt.figure()"
   ]
  },
  {
   "cell_type": "code",
   "execution_count": 16,
   "metadata": {},
   "outputs": [
    {
     "data": {
      "image/png": "[encoded data removed]",
      "text/plain": [
       "<Figure size 432x288 with 1 Axes>"
      ]
     },
     "metadata": {
      "needs_background": "light"
     },
     "output_type": "display_data"
    }
   ],
   "source": [
    "t = TortugaConMemoria(color=\"red\")\n",
    "t.avanza(20)\n",
    "t.plot()"
   ]
  },
  {
   "cell_type": "code",
   "execution_count": 17,
   "metadata": {},
   "outputs": [],
   "source": [
    "t.derecha(pi/2)"
   ]
  },
  {
   "cell_type": "code",
   "execution_count": null,
   "metadata": {},
   "outputs": [],
   "source": []
  }
 ],
 "metadata": {
  "@webio": {
   "lastCommId": null,
   "lastKernelId": null
  },
  "kernelspec": {
   "display_name": "Python 3 (ipykernel)",
   "language": "python",
   "name": "python3"
  },
  "language_info": {
   "codemirror_mode": {
    "name": "ipython",
    "version": 3
   },
   "file_extension": ".py",
   "mimetype": "text/x-python",
   "name": "python",
   "nbconvert_exporter": "python",
   "pygments_lexer": "ipython3",
   "version": "3.10.12"
  }
 },
 "nbformat": 4,
 "nbformat_minor": 4
}
