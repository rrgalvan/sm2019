{
 "cells": [
  {
   "cell_type": "markdown",
   "metadata": {},
   "source": [
    "* La **[computación paralela](https://es.wikipedia.org/wiki/Computaci%C3%B3n_paralela)** es un modo de operación donde una tarea se ejecuta **simultáneamente en múltiples procesadores**\n",
    "\n",
    "* *Objetivo*: reducir el tiempo total de cálculo.\n",
    "\n",
    "* Estos procesadores pueden estar en la misma máquina o en máquinas diferentes\n",
    "\n",
    "* Generalmente, la *comunicación entre procesos* conlleva cierta sobrecarga y todo programa tiene una parte que no se puede paralelizar (Ley de  ley de Amdahl) que limita el rendimiento cuando se aumenta el número de procesadores\n",
    "![Ley de Amdahl](https://upload.wikimedia.org/wikipedia/commons/thumb/9/93/AmdahlsLaw-es.svg/500px-AmdahlsLaw-es.svg.png)\n",
    "  \n",
    "\n",
    "## Módulo multiprocessing\n",
    "\n",
    "* En python, existe un módulo llamado *[multiprocessing](https://docs.python.org/3.4/library/multiprocessing.html?highlight=process)* que se utiliza para ejecutar procesos paralelos independientes mediante subprocesos.\n",
    "\n",
    "* Este módulo permite aprovechar múltiples procesadores en una misma máquina máquina (tanto Windows como Unix)\n"
   ]
  },
  {
   "cell_type": "code",
   "execution_count": 2,
   "metadata": {},
   "outputs": [
    {
     "name": "stdout",
     "output_type": "stream",
     "text": [
      "Number of processors:  32\n"
     ]
    }
   ],
   "source": [
    "import multiprocessing as mp\n",
    "print(\"Number of processors: \", mp.cpu_count())"
   ]
  },
  {
   "cell_type": "markdown",
   "metadata": {},
   "source": [
    "## Pool \n",
    "\n",
    "La forma más fácil para paralelizar una función con distintos valores:\n",
    "* Crear un objeto Pool\n",
    "* Utilizar la función map, pasando la función y una lista de parámetros\n",
    "\n",
    "https://sebastianraschka.com/Articles/2014_multiprocessing.html"
   ]
  },
  {
   "cell_type": "code",
   "execution_count": 3,
   "metadata": {},
   "outputs": [],
   "source": [
    "def cube(x):\n",
    "    return x**3"
   ]
  },
  {
   "cell_type": "code",
   "execution_count": 6,
   "metadata": {},
   "outputs": [
    {
     "name": "stdout",
     "output_type": "stream",
     "text": [
      "[1, 8, 27, 64, 125, 216]\n"
     ]
    }
   ],
   "source": [
    "pool = mp.Pool(processes=4) # Usaré un conjunto de 4 procesadores\n",
    "\n",
    "results = pool.map(cube, range(1,7))\n",
    "print(results)"
   ]
  },
  {
   "cell_type": "code",
   "execution_count": 5,
   "metadata": {},
   "outputs": [
    {
     "data": {
      "text/plain": [
       "[1, 8, 27, 64, 125, 216]"
      ]
     },
     "execution_count": 5,
     "metadata": {},
     "output_type": "execute_result"
    }
   ],
   "source": [
    "list( map(cube, range(1,7)) )"
   ]
  },
  {
   "cell_type": "code",
   "execution_count": null,
   "metadata": {},
   "outputs": [],
   "source": []
  }
 ],
 "metadata": {
  "kernelspec": {
   "display_name": "Python 3",
   "language": "python",
   "name": "python3"
  },
  "language_info": {
   "codemirror_mode": {
    "name": "ipython",
    "version": 3
   },
   "file_extension": ".py",
   "mimetype": "text/x-python",
   "name": "python",
   "nbconvert_exporter": "python",
   "pygments_lexer": "ipython3",
   "version": "3.6.8"
  }
 },
 "nbformat": 4,
 "nbformat_minor": 2
}
