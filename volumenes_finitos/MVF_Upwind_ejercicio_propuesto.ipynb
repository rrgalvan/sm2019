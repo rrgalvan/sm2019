{
 "cells": [
  {
   "cell_type": "markdown",
   "metadata": {},
   "source": [
    "# Volúmenes finitos: método aguas arriba\n",
    "\n",
    "El método aguas arriba para la ecuación de advección con coeficiente constant $\\beta>0$,f\n",
    "$$\n",
    "q_t + \\beta q_x =0\n",
    "$$\n",
    "se basa en la elección del flujo\n",
    "$$\n",
    "F^n_{i-1/2}=\\beta Q^n_{i-1}.\n",
    "$$\n",
    "Esto conduce al siguiente esquema numérico:\n",
    "$$\n",
    "Q^{n+1}_i = Q^n_i - \\beta\\frac{\\Delta t}{\\Delta x} (Q^n_{i} - Q^n_{i-1}).\n",
    "$$\n",
    "\n",
    "El método anterior se puede interpretar como una aproximación hacia atrás de la derivada de $q$ en $x_i$, en vez de una aproximación centrada."
   ]
  },
  {
   "cell_type": "code",
   "execution_count": null,
   "metadata": {},
   "outputs": [],
   "source": []
  }
 ],
 "metadata": {
  "@webio": {
   "lastCommId": null,
   "lastKernelId": null
  },
  "kernelspec": {
   "display_name": "Python 3",
   "language": "python",
   "name": "python3"
  },
  "language_info": {
   "codemirror_mode": {
    "name": "ipython",
    "version": 3
   },
   "file_extension": ".py",
   "mimetype": "text/x-python",
   "name": "python",
   "nbconvert_exporter": "python",
   "pygments_lexer": "ipython3",
   "version": "3.6.8"
  }
 },
 "nbformat": 4,
 "nbformat_minor": 2
}
