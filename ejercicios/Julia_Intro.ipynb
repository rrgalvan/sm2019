{
 "cells": [
  {
   "cell_type": "markdown",
   "metadata": {},
   "source": [
    "# Introducción a Julia\n",
    "\n",
    "*Julia*: Flexibilidad y potencia. *Walks like Python. Runs like C*.\n",
    "- Resolución del dilema: codificación rápida o ejecución rápida\n",
    "- ¿Cómo se consigue esto? \n",
    "    - Compilación `just-in-time` (JIT)\n",
    "    - Énfasis en la especialización de operaciones para cada tipo de datos\n",
    "        - [*Core Idea: Multiple Dispatch + Type Stability => Speed + Readability*](http://ucidatascienceinitiative.github.io/IntroToJulia/Html/WhyJulia)\n",
    "\n",
    "## Instalación\n",
    "https://syl1.gitbook.io/julia-language-a-concise-tutorial/language-core/getting-started\n",
    "\n",
    "- La instalación es sencilla, https://julialang.org/downloads/\n",
    "- Se puede utilizar interactivamente desde una consola (entorno *REPL*, *read-eval-print loop*) escribiendo\n",
    "```\n",
    "$ julia\n",
    "```\n",
    "- O bien se pueden escribir *scripts* usando un editor adecuado (como **Atom** o *Emacs*)\n",
    "    - Sugerencia: en *Atom*, instalar `language-julia`, `latex-completions`, `julia-client`, `ink`, `juno-plus`, \n",
    "- O bien se puede [usar Julia desde **Jupyter**](https://www.analyticslane.com/2019/09/20/julia-en-jupyter-notebook/)"
   ]
  },
  {
   "cell_type": "markdown",
   "metadata": {},
   "source": [
    "## Primeros pasos\n",
    "\n",
    "- https://docs.julialang.org/en/v1/manual/getting-started/\n",
    "- http://ucidatascienceinitiative.github.io/IntroToJulia/Html/BasicIntroduction\n",
    "    - http://ucidatascienceinitiative.github.io/IntroToJulia/"
   ]
  },
  {
   "cell_type": "code",
   "execution_count": null,
   "metadata": {},
   "outputs": [],
   "source": [
    "# Orientada a arrays\n"
   ]
  },
  {
   "cell_type": "markdown",
   "metadata": {},
   "source": [
    "## Gráficos\n",
    "Simplicidad y potencia (uso de [*backends*](http://docs.juliaplots.org/latest/backends/))\n",
    "- http://docs.juliaplots.org/latest/\n",
    "\n",
    "## Computación Paralela\n",
    "- https://docs.julialang.org/en/v1/manual/parallel-computing/"
   ]
  },
  {
   "cell_type": "code",
   "execution_count": 1,
   "metadata": {},
   "outputs": [
    {
     "data": {
      "text/plain": [
       "1"
      ]
     },
     "execution_count": 1,
     "metadata": {},
     "output_type": "execute_result"
    }
   ],
   "source": [
    "Threads.nthreads()"
   ]
  },
  {
   "cell_type": "code",
   "execution_count": null,
   "metadata": {},
   "outputs": [],
   "source": []
  }
 ],
 "metadata": {
  "kernelspec": {
   "display_name": "Julia 1.5.1",
   "language": "julia",
   "name": "julia-1.5"
  },
  "language_info": {
   "file_extension": ".jl",
   "mimetype": "application/julia",
   "name": "julia",
   "version": "1.5.1"
  }
 },
 "nbformat": 4,
 "nbformat_minor": 4
}
