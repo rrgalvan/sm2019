{
 "cells": [
  {
   "cell_type": "markdown",
   "metadata": {},
   "source": [
    "# Resolución del problema de Laplace 1D con condiciones Dirichlet"
   ]
  },
  {
   "cell_type": "markdown",
   "metadata": {},
   "source": [
    "Calcular $u:[a,b] \\to R$ solución de\n",
    "$$\n",
    "\\begin{align}\n",
    "  \\label{pb1d}\n",
    "  -\\frac{d^2 u(x) }{dx^2} = f(x) \\mbox{ en } [a,b], \\\\\n",
    "  u(a)=u_a, \\ u(b)=u_b,\n",
    "\\end{align}\n",
    "$$\n"
   ]
  },
  {
   "cell_type": "markdown",
   "metadata": {},
   "source": [
    "## Sistema de ecuaciones MDF 1D"
   ]
  },
  {
   "cell_type": "code",
   "execution_count": 4,
   "metadata": {},
   "outputs": [],
   "source": [
    "from numpy import *"
   ]
  },
  {
   "cell_type": "code",
   "execution_count": 5,
   "metadata": {},
   "outputs": [],
   "source": [
    "# Datos:\n",
    "a, b = 0, 1 #Extremos del intervalo\n",
    "n = 10 # Números de puntos interiores en la partición, x_1,..., x_n\n",
    "h = 1./(n+1) # Tamaño de la partición\n",
    "ua, ub = 0, 1  # Datos de contorno\n",
    "f = lambda x: pi**2/4 * sin(x*pi/2)"
   ]
  },
  {
   "cell_type": "markdown",
   "metadata": {},
   "source": [
    "### Matriz"
   ]
  },
  {
   "cell_type": "code",
   "execution_count": 6,
   "metadata": {},
   "outputs": [
    {
     "name": "stdout",
     "output_type": "stream",
     "text": [
      "n=3:\n",
      " [[ 2 -1  0]\n",
      " [-1  2 -1]\n",
      " [ 0 -1  2]]\n",
      "Caso general:\n",
      " [[ 242. -121.    0.    0.    0.    0.    0.    0.    0.    0.]\n",
      " [-121.  242. -121.    0.    0.    0.    0.    0.    0.    0.]\n",
      " [   0. -121.  242. -121.    0.    0.    0.    0.    0.    0.]\n",
      " [   0.    0. -121.  242. -121.    0.    0.    0.    0.    0.]\n",
      " [   0.    0.    0. -121.  242. -121.    0.    0.    0.    0.]\n",
      " [   0.    0.    0.    0. -121.  242. -121.    0.    0.    0.]\n",
      " [   0.    0.    0.    0.    0. -121.  242. -121.    0.    0.]\n",
      " [   0.    0.    0.    0.    0.    0. -121.  242. -121.    0.]\n",
      " [   0.    0.    0.    0.    0.    0.    0. -121.  242. -121.]\n",
      " [   0.    0.    0.    0.    0.    0.    0.    0. -121.  242.]]\n"
     ]
    }
   ],
   "source": [
    "# Caso n=3\n",
    "A=array( \n",
    "    [\n",
    "    [2,-1,0], # Fila1\n",
    "    [-1,2,-1], # Fila 2\n",
    "    [0,-1,2]  # Fila 3\n",
    "    ]\n",
    ")\n",
    "print(\"n=3:\\n\", A)\n",
    "# Caso general:\n",
    "A_h = (1./h**2) * (\n",
    "    2*diag( ones(n) ) \n",
    "    - diag( ones(n-1), +1 ) \n",
    "    - diag( ones(n-1), -1)\n",
    ")\n",
    "print(\"Caso general:\\n\", A_h)"
   ]
  },
  {
   "cell_type": "markdown",
   "metadata": {},
   "source": [
    "### Segundo miembro"
   ]
  },
  {
   "cell_type": "code",
   "execution_count": 7,
   "metadata": {},
   "outputs": [
    {
     "data": {
      "text/plain": [
       "array([  0.        ,   0.4284597 ,   0.84390088,   1.23370055,\n",
       "         1.58601486,   1.8901389 ,   2.13683203,   2.31859861,\n",
       "         2.42991573, 123.4674011 ])"
      ]
     },
     "execution_count": 7,
     "metadata": {},
     "output_type": "execute_result"
    }
   ],
   "source": [
    "f_h = []\n",
    "x = linspace(0, 1, num=n) # x_0, ..., x_{n-1}\n",
    "#for i in range(n): # i 0,...n-1\n",
    "#    f_h.append( f(x[i]) )\n",
    "f_h = f(x) # f_h es el array resultante de aplicar f a cada elmento del array x\n",
    "f_h[0]  += ua/h**2\n",
    "f_h[-1] += ub/h**2\n",
    "f_h "
   ]
  },
  {
   "cell_type": "markdown",
   "metadata": {},
   "source": [
    "### Resolver sistema"
   ]
  },
  {
   "cell_type": "code",
   "execution_count": 28,
   "metadata": {},
   "outputs": [
    {
     "data": {
      "image/png": "[encoded data removed]",
      "text/plain": [
       "<Figure size 432x288 with 1 Axes>"
      ]
     },
     "metadata": {
      "needs_background": "light"
     },
     "output_type": "display_data"
    }
   ],
   "source": [
    "from numpy.linalg import solve\n",
    "u_h = solve(A_h, f_h)\n",
    "\n",
    "from matplotlib.pylab import plot, show, grid, legend\n",
    "plot(x, u_h, label=\"Solución aproximada\", linewidth=3, color=\"green\")\n",
    "grid()\n",
    "legend()\n",
    "show()\n"
   ]
  },
  {
   "cell_type": "markdown",
   "metadata": {},
   "source": [
    "## Papel sucio...."
   ]
  },
  {
   "cell_type": "code",
   "execution_count": null,
   "metadata": {},
   "outputs": [],
   "source": []
  },
  {
   "cell_type": "code",
   "execution_count": 9,
   "metadata": {},
   "outputs": [
    {
     "name": "stdout",
     "output_type": "stream",
     "text": [
      "El tamaño es 24\n",
      "El tamaño es %i <function size at 0x0000000004F2A048>\n"
     ]
    }
   ],
   "source": [
    "# Trabajando...\n",
    "size = 24\n",
    "print(\"El tamaño es %i\" %size)\n",
    "\n",
    "# Mucho más abajo:\n",
    "from numpy import *\n",
    "x=array([1,2,3])\n",
    "size(x) # No me he dado cuenta de que el import ha pisado la variable size\n",
    "\n",
    "# De nuevo más abajo\n",
    "print(\"El tamaño es %i\", size)\n",
    "\n"
   ]
  },
  {
   "cell_type": "code",
   "execution_count": 10,
   "metadata": {},
   "outputs": [
    {
     "data": {
      "text/plain": [
       "array([0.84147098, 0.90929743, 0.14112001])"
      ]
     },
     "execution_count": 10,
     "metadata": {},
     "output_type": "execute_result"
    }
   ],
   "source": [
    "import numpy as np\n",
    "x = np.array([1,2,3])\n",
    "y = np.sin(x)\n",
    "y"
   ]
  },
  {
   "cell_type": "code",
   "execution_count": 11,
   "metadata": {},
   "outputs": [
    {
     "data": {
      "text/plain": [
       "array([[2., 0., 0.],\n",
       "       [0., 2., 0.],\n",
       "       [0., 0., 2.]])"
      ]
     },
     "execution_count": 11,
     "metadata": {},
     "output_type": "execute_result"
    }
   ],
   "source": [
    "2*identity(3)"
   ]
  },
  {
   "cell_type": "code",
   "execution_count": null,
   "metadata": {},
   "outputs": [],
   "source": []
  },
  {
   "cell_type": "code",
   "execution_count": 12,
   "metadata": {},
   "outputs": [
    {
     "data": {
      "text/plain": [
       "array([1., 1., 1.])"
      ]
     },
     "execution_count": 12,
     "metadata": {},
     "output_type": "execute_result"
    }
   ],
   "source": [
    "ones(3)"
   ]
  },
  {
   "cell_type": "code",
   "execution_count": 13,
   "metadata": {},
   "outputs": [
    {
     "data": {
      "text/plain": [
       "array([[ 0,  0,  0,  0,  0],\n",
       "       [ 0,  0,  0,  0,  0],\n",
       "       [ 1,  0,  0,  0,  0],\n",
       "       [ 0,  3,  0,  0,  0],\n",
       "       [ 0,  0, 88,  0,  0]])"
      ]
     },
     "execution_count": 13,
     "metadata": {},
     "output_type": "execute_result"
    }
   ],
   "source": [
    "diag([1,3,88],-2)"
   ]
  },
  {
   "cell_type": "code",
   "execution_count": 14,
   "metadata": {},
   "outputs": [
    {
     "data": {
      "text/plain": [
       "1.0"
      ]
     },
     "execution_count": 14,
     "metadata": {},
     "output_type": "execute_result"
    }
   ],
   "source": [
    "x = linspace(0,1, n) # x_0, ..., x_{n-1}\n",
    "x[9]"
   ]
  },
  {
   "cell_type": "code",
   "execution_count": 15,
   "metadata": {},
   "outputs": [
    {
     "data": {
      "text/plain": [
       "[1, 3, 5]"
      ]
     },
     "execution_count": 15,
     "metadata": {},
     "output_type": "execute_result"
    }
   ],
   "source": [
    "lista = [1,2,3,4,5,6]\n",
    "lista[:5:2]"
   ]
  },
  {
   "cell_type": "code",
   "execution_count": 29,
   "metadata": {},
   "outputs": [
    {
     "name": "stdout",
     "output_type": "stream",
     "text": [
      "Using matplotlib backend: Qt5Agg\n",
      "Populating the interactive namespace from numpy and matplotlib\n"
     ]
    },
    {
     "name": "stderr",
     "output_type": "stream",
     "text": [
      "C:\\Users\\Usuario\\Anaconda3\\lib\\site-packages\\IPython\\core\\magics\\pylab.py:160: UserWarning: pylab import has clobbered these variables: ['f']\n",
      "`%matplotlib` prevents importing * from pylab and numpy\n",
      "  \"\\n`%matplotlib` prevents importing * from pylab and numpy\"\n"
     ]
    }
   ],
   "source": [
    "%pylab"
   ]
  },
  {
   "cell_type": "code",
   "execution_count": null,
   "metadata": {},
   "outputs": [],
   "source": [
    "plo"
   ]
  }
 ],
 "metadata": {
  "kernelspec": {
   "display_name": "Python 3",
   "language": "python",
   "name": "python3"
  },
  "language_info": {
   "codemirror_mode": {
    "name": "ipython",
    "version": 3
   },
   "file_extension": ".py",
   "mimetype": "text/x-python",
   "name": "python",
   "nbconvert_exporter": "python",
   "pygments_lexer": "ipython3",
   "version": "3.6.7"
  }
 },
 "nbformat": 4,
 "nbformat_minor": 2
}
